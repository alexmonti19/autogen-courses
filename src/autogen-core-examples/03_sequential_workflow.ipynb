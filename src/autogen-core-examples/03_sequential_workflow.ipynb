{
 "cells": [
  {
   "cell_type": "markdown",
   "metadata": {
    "vscode": {
     "languageId": "plaintext"
    }
   },
   "source": [
    "# Sequential wokflow"
   ]
  },
  {
   "cell_type": "markdown",
   "metadata": {},
   "source": [
    "Sequential Workflow is a multi-agent design pattern where agents respond in a deterministic sequence. Each agent in the workflow performs a specific task by processing a message, generating a response, and then passing it to the next agent; useful for creating deterministic workflows where each agent contributes to a pre-specified sub-task."
   ]
  },
  {
   "attachments": {
    "image.png": {
     "image/png": "[encoded data removed]"
    }
   },
   "cell_type": "markdown",
   "metadata": {},
   "source": [
    "The pipeline consists of four specialized agents:\n",
    "\n",
    "- `Concept Extractor Agent`: Analyzes the initial product description to extract key features, target audience, and unique selling points (USPs). The output is a structured analysis in a single text block.\n",
    "\n",
    "- `Writer Agent`: Crafts compelling marketing copy based on the extracted concepts. This agent transforms the analytical insights into engaging promotional content, delivering a cohesive narrative in a single text block.\n",
    "\n",
    "- `Format & Proof Agent`: Polishes the draft copy by refining grammar, enhancing clarity, and maintaining consistent tone. This agent ensures professional quality and delivers a well-formatted final version.\n",
    "\n",
    "- `User Agent`: Presents the final, refined marketing copy to the user, completing the workflow.\n",
    "\n",
    "![image.png](attachment:image.png)"
   ]
  },
  {
   "cell_type": "code",
   "execution_count": 1,
   "metadata": {},
   "outputs": [],
   "source": [
    "from pydantic import BaseModel\n",
    "\n",
    "\n",
    "class Message(BaseModel):\n",
    "    content: str"
   ]
  },
  {
   "cell_type": "code",
   "execution_count": 17,
   "metadata": {},
   "outputs": [],
   "source": [
    "from enum import StrEnum, auto\n",
    "\n",
    "\n",
    "class TopicType(StrEnum):\n",
    "    CONCEPT_EXTRACTION = auto()\n",
    "    WRITING = auto()\n",
    "    FORMAT_PROOF = auto()\n",
    "    USER = auto()"
   ]
  },
  {
   "cell_type": "markdown",
   "metadata": {},
   "source": [
    "### completion model"
   ]
  },
  {
   "cell_type": "code",
   "execution_count": 9,
   "metadata": {},
   "outputs": [],
   "source": [
    "import os\n",
    "import getpass\n",
    "\n",
    "\n",
    "def _set_env(var: str):\n",
    "    if not os.environ.get(var):\n",
    "        os.environ[var] = getpass.getpass(f\"{var}: \")\n",
    "\n",
    "\n",
    "_set_env(\"AZURE_OPENAI_API_KEY\")\n",
    "_set_env(\"AZURE_OPENAI_ENDPOINT\")\n",
    "_set_env(\"AZURE_OPENAI_API_VERSION\")\n",
    "_set_env(\"AZURE_OPENAI_DEPLOYMENT_NAME\")\n",
    "_set_env(\"AZURE_OPENAI_MODEL_NAME\")"
   ]
  },
  {
   "cell_type": "code",
   "execution_count": 10,
   "metadata": {},
   "outputs": [],
   "source": [
    "from autogen_ext.models.openai import AzureOpenAIChatCompletionClient\n",
    "\n",
    "model_client: AzureOpenAIChatCompletionClient = AzureOpenAIChatCompletionClient(\n",
    "    model=os.getenv(\"AZURE_OPENAI_MODEL_NAME\"),\n",
    "    azure_endpoint=os.getenv(\"AZURE_OPENAI_ENDPOINT\"),\n",
    "    api_key=os.getenv(\"AZURE_OPENAI_API_KEY\"),\n",
    "    api_version=os.getenv(\"AZURE_OPENAI_API_VERSION\"),\n",
    "    azure_deployment=os.getenv(\"AZURE_OPENAI_DEPLOYMENT_NAME\"),\n",
    ")"
   ]
  },
  {
   "cell_type": "code",
   "execution_count": null,
   "metadata": {},
   "outputs": [
    {
     "name": "stdout",
     "output_type": "stream",
     "text": [
      "Hello! How can I assist you today?\n"
     ]
    }
   ],
   "source": [
    "from autogen_core.models import UserMessage\n",
    "\n",
    "llm_result = await model_client.create(\n",
    "    messages=[\n",
    "        UserMessage(content=\"Hi\", source=\"user\"),\n",
    "    ],\n",
    "    cancellation_token=None,\n",
    ")\n",
    "response = llm_result.content\n",
    "print(response)"
   ]
  },
  {
   "cell_type": "markdown",
   "metadata": {},
   "source": [
    "### agents"
   ]
  },
  {
   "cell_type": "code",
   "execution_count": 23,
   "metadata": {},
   "outputs": [],
   "source": [
    "from autogen_core import (\n",
    "    type_subscription,\n",
    "    RoutedAgent,\n",
    "    MessageContext,\n",
    "    message_handler,\n",
    "    TopicId,\n",
    ")\n",
    "\n",
    "from autogen_core.models import ChatCompletionClient, SystemMessage, UserMessage\n",
    "\n",
    "\n",
    "@type_subscription(topic_type=TopicType.CONCEPT_EXTRACTION)\n",
    "class ConceptExtractorAgent(RoutedAgent):\n",
    "    def __init__(self, model_client: ChatCompletionClient) -> None:\n",
    "        super().__init__(\"A concept extractor agent.\")\n",
    "        self._system_message = SystemMessage(\n",
    "            content=(\n",
    "                \"You are a marketing analyst. Given a product description, identify:\\n\"\n",
    "                \"- Key features\\n\"\n",
    "                \"- Target audience\\n\"\n",
    "                \"- Unique selling points\\n\\n\"\n",
    "            )\n",
    "        )\n",
    "        self._model_client = model_client\n",
    "\n",
    "    @message_handler\n",
    "    async def handle_user_description(\n",
    "        self, message: Message, ctx: MessageContext\n",
    "    ) -> None:\n",
    "        prompt = f\"Product description:\\n\\n{message.content}\"\n",
    "        llm_result = await self._model_client.create(\n",
    "            messages=[\n",
    "                self._system_message,\n",
    "                UserMessage(content=prompt, source=self.id.key),\n",
    "            ],\n",
    "            cancellation_token=ctx.cancellation_token,\n",
    "        )\n",
    "        response = llm_result.content\n",
    "\n",
    "        assert isinstance(response, str)\n",
    "        print(f\"{'-'*80}\\n{self.id.type}:\\n{response}\")\n",
    "\n",
    "        await self.publish_message(\n",
    "            Message(content=response),\n",
    "            topic_id=TopicId(TopicType.WRITING, source=self.id.key),\n",
    "        )"
   ]
  },
  {
   "cell_type": "code",
   "execution_count": 24,
   "metadata": {},
   "outputs": [],
   "source": [
    "@type_subscription(topic_type=TopicType.WRITING)\n",
    "class WriterAgent(RoutedAgent):\n",
    "    def __init__(self, model_client: ChatCompletionClient) -> None:\n",
    "        super().__init__(\"A writer agent.\")\n",
    "        self._system_message = SystemMessage(\n",
    "            content=(\n",
    "                \"You are a marketing copywriter. Given a block of text describing features, audience, and USPs, \"\n",
    "                \"compose a compelling marketing copy (like a newsletter section) that highlights these points. \"\n",
    "                \"Output should be short (around 150 words), output just the copy as a single text block.\"\n",
    "            )\n",
    "        )\n",
    "        self._model_client = model_client\n",
    "\n",
    "    @message_handler\n",
    "    async def handle_intermediate_text(\n",
    "        self, message: Message, ctx: MessageContext\n",
    "    ) -> None:\n",
    "        prompt = f\"Below is the info about the product:\\n\\n{message.content}\"\n",
    "\n",
    "        llm_result = await self._model_client.create(\n",
    "            messages=[\n",
    "                self._system_message,\n",
    "                UserMessage(content=prompt, source=self.id.key),\n",
    "            ],\n",
    "            cancellation_token=ctx.cancellation_token,\n",
    "        )\n",
    "        response = llm_result.content\n",
    "        assert isinstance(response, str)\n",
    "        print(f\"{'-'*80}\\n{self.id.type}:\\n{response}\")\n",
    "\n",
    "        await self.publish_message(\n",
    "            Message(content=response),\n",
    "            topic_id=TopicId(TopicType.FORMAT_PROOF, source=self.id.key),\n",
    "        )"
   ]
  },
  {
   "cell_type": "code",
   "execution_count": null,
   "metadata": {},
   "outputs": [],
   "source": [
    "@type_subscription(topic_type=TopicType.FORMAT_PROOF)\n",
    "class FormatProofAgent(RoutedAgent):\n",
    "    def __init__(self, model_client: ChatCompletionClient) -> None:\n",
    "        super().__init__(\"A format & proof agent.\")\n",
    "        self._system_message = SystemMessage(\n",
    "            content=(\n",
    "                \"You are an editor. Given the draft copy, correct grammar, improve clarity, ensure consistent tone, \"\n",
    "                \"give format and make it polished. Output the final improved copy as a single text block.\"\n",
    "            )\n",
    "        )\n",
    "        self._model_client = model_client\n",
    "\n",
    "    @message_handler\n",
    "    async def handle_intermediate_text(\n",
    "        self, message: Message, ctx: MessageContext\n",
    "    ) -> None:\n",
    "        prompt = f\"Draft copy:\\n{message.content}.\"\n",
    "        llm_result = await self._model_client.create(\n",
    "            messages=[\n",
    "                self._system_message,\n",
    "                UserMessage(content=prompt, source=self.id.key),\n",
    "            ],\n",
    "            cancellation_token=ctx.cancellation_token,\n",
    "        )\n",
    "        response = llm_result.content\n",
    "\n",
    "        assert isinstance(response, str)\n",
    "        print(f\"{'-'*80}\\n{self.id.type}:\\n{response}\")\n",
    "\n",
    "        await self.publish_message(\n",
    "            Message(content=response),\n",
    "            topic_id=TopicId(TopicType.USER, source=self.id.key),\n",
    "        )"
   ]
  },
  {
   "cell_type": "code",
   "execution_count": 26,
   "metadata": {},
   "outputs": [],
   "source": [
    "@type_subscription(topic_type=TopicType.USER)\n",
    "class UserAgent(RoutedAgent):\n",
    "    def __init__(self) -> None:\n",
    "        super().__init__(\"A user agent that outputs the final copy to the user.\")\n",
    "\n",
    "    @message_handler\n",
    "    async def handle_final_copy(self, message: Message, ctx: MessageContext) -> None:\n",
    "        print(f\"\\n{'-'*80}\\n{self.id.type} received final copy:\\n{message.content}\")"
   ]
  },
  {
   "cell_type": "markdown",
   "metadata": {},
   "source": [
    "### runtime"
   ]
  },
  {
   "cell_type": "code",
   "execution_count": 27,
   "metadata": {},
   "outputs": [
    {
     "data": {
      "text/plain": [
       "AgentType(type=<TopicType.USER: 'user'>)"
      ]
     },
     "execution_count": 27,
     "metadata": {},
     "output_type": "execute_result"
    }
   ],
   "source": [
    "from autogen_core import SingleThreadedAgentRuntime\n",
    "\n",
    "runtime: SingleThreadedAgentRuntime = SingleThreadedAgentRuntime()\n",
    "\n",
    "await ConceptExtractorAgent.register(\n",
    "    runtime,\n",
    "    type=TopicType.CONCEPT_EXTRACTION,\n",
    "    factory=lambda: ConceptExtractorAgent(model_client=model_client),\n",
    ")\n",
    "\n",
    "await WriterAgent.register(\n",
    "    runtime,\n",
    "    type=TopicType.WRITING,\n",
    "    factory=lambda: WriterAgent(model_client=model_client),\n",
    ")\n",
    "\n",
    "await FormatProofAgent.register(\n",
    "    runtime,\n",
    "    type=TopicType.FORMAT_PROOF,\n",
    "    factory=lambda: FormatProofAgent(model_client=model_client),\n",
    ")\n",
    "\n",
    "await UserAgent.register(runtime, type=TopicType.USER, factory=lambda: UserAgent())"
   ]
  },
  {
   "cell_type": "code",
   "execution_count": 28,
   "metadata": {},
   "outputs": [
    {
     "name": "stdout",
     "output_type": "stream",
     "text": [
      "--------------------------------------------------------------------------------\n",
      "concept_extraction:\n",
      "- **Key Features:**\n",
      "  - Made from eco-friendly stainless steel\n",
      "  - Insulates drinks to keep them cold for up to 24 hours\n",
      "  - Durable and long-lasting design\n",
      "  - Reusable, reducing plastic waste\n",
      "  - Portable and lightweight\n",
      "\n",
      "- **Target Audience:**\n",
      "  - Environmentally conscious consumers\n",
      "  - Outdoor enthusiasts (hikers, campers, cyclists)\n",
      "  - Fitness enthusiasts (gym-goers, runners)\n",
      "  - Office workers seeking sustainable options\n",
      "  - Parents looking for safe and durable hydration solutions for their children\n",
      "\n",
      "- **Unique Selling Points:**\n",
      "  - Sustainability: Made from eco-friendly materials, appealing to eco-conscious buyers.\n",
      "  - Exceptional insulation: Keeps beverages cold for an impressive 24 hours, suitable for all-day adventures.\n",
      "  - Versatile design: Ideal for a variety of activities, from outdoor adventures to everyday use.\n",
      "  - Encourages a zero-waste lifestyle by promoting reusable over single-use plastic bottles.\n",
      "--------------------------------------------------------------------------------\n",
      "writing:\n",
      "Elevate your hydration game while protecting the planet with our eco-friendly stainless steel water bottle! Designed for the environmentally conscious, this reusable bottle not only keeps your drinks ice-cold for up to 24 hours, but it also champions sustainability by reducing plastic waste. Whether you're trekking through the mountains, hitting the gym, or tackling a busy day at the office, its durable and lightweight design ensures you stay refreshed and hydrated. Parents, rest easy knowing your kids’ hydration solution is both safe and sturdy. Join the zero-waste movement today—embrace a bottle that fits seamlessly into your lifestyle and makes a positive impact on the world! Grab yours now and enjoy your adventures with a refreshing twist!\n",
      "--------------------------------------------------------------------------------\n",
      "format_proof:\n",
      "Elevate your hydration game while protecting the planet with our eco-friendly stainless steel water bottle! Designed for the environmentally conscious, this reusable bottle keeps your drinks ice-cold for up to 24 hours and champions sustainability by reducing plastic waste. Whether you're trekking through the mountains, hitting the gym, or navigating a busy day at the office, its durable yet lightweight design ensures you stay refreshed and hydrated. Parents can rest easy knowing that this hydration solution for their kids is both safe and sturdy. \n",
      "\n",
      "Join the zero-waste movement today—embrace a bottle that seamlessly fits into your lifestyle while making a positive impact on the world! Grab yours now and enjoy your adventures with a refreshing twist!\n",
      "\n",
      "--------------------------------------------------------------------------------\n",
      "user received final copy:\n",
      "Elevate your hydration game while protecting the planet with our eco-friendly stainless steel water bottle! Designed for the environmentally conscious, this reusable bottle keeps your drinks ice-cold for up to 24 hours and champions sustainability by reducing plastic waste. Whether you're trekking through the mountains, hitting the gym, or navigating a busy day at the office, its durable yet lightweight design ensures you stay refreshed and hydrated. Parents can rest easy knowing that this hydration solution for their kids is both safe and sturdy. \n",
      "\n",
      "Join the zero-waste movement today—embrace a bottle that seamlessly fits into your lifestyle while making a positive impact on the world! Grab yours now and enjoy your adventures with a refreshing twist!\n"
     ]
    }
   ],
   "source": [
    "runtime.start()\n",
    "\n",
    "await runtime.publish_message(\n",
    "    Message(\n",
    "        content=\"An eco-friendly stainless steel water bottle that keeps drinks cold for 24 hours\"\n",
    "    ),\n",
    "    topic_id=TopicId(TopicType.CONCEPT_EXTRACTION, source=\"default\"),\n",
    ")\n",
    "\n",
    "await runtime.stop_when_idle()"
   ]
  }
 ],
 "metadata": {
  "kernelspec": {
   "display_name": ".venv",
   "language": "python",
   "name": "python3"
  },
  "language_info": {
   "codemirror_mode": {
    "name": "ipython",
    "version": 3
   },
   "file_extension": ".py",
   "mimetype": "text/x-python",
   "name": "python",
   "nbconvert_exporter": "python",
   "pygments_lexer": "ipython3",
   "version": "3.13.2"
  }
 },
 "nbformat": 4,
 "nbformat_minor": 2
}
