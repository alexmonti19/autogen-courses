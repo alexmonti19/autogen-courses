{
 "cells": [
  {
   "cell_type": "markdown",
   "metadata": {},
   "source": [
    "# Agents and Agents Runtime"
   ]
  },
  {
   "cell_type": "code",
   "execution_count": 10,
   "metadata": {},
   "outputs": [],
   "source": [
    "from typing import Callable\n",
    "from pydantic import BaseModel\n",
    "from autogen_core import AgentId, SingleThreadedAgentRuntime\n",
    "\n",
    "\n",
    "from autogen_core import (\n",
    "    DefaultTopicId,\n",
    "    MessageContext,\n",
    "    RoutedAgent,\n",
    "    default_subscription,\n",
    "    message_handler,\n",
    ")"
   ]
  },
  {
   "cell_type": "markdown",
   "metadata": {},
   "source": [
    "`Message` defines the model message that is passed between the agents.\n",
    "`Modifier` and `Checker` are the agent classes; each defines its procedure for handling messages: in this example, `Modifier` decrements a counter and publish a response, while `Checker` reads Modifier's message and checks if the generated is higher than 1, otherwise stops sending messages back.\n",
    "\n",
    "\n",
    "**NB**: agents’ logic, whether it is using model or code executor, is completely decoupled from how messages are delivered -> the agents are responsible for their own logic"
   ]
  },
  {
   "cell_type": "code",
   "execution_count": 15,
   "metadata": {},
   "outputs": [],
   "source": [
    "class Message(BaseModel):\n",
    "    content: int\n",
    "\n",
    "\n",
    "@default_subscription\n",
    "class Modifier(RoutedAgent):\n",
    "    def __init__(self, modify_val: Callable[[int], int]) -> None:\n",
    "        super().__init__(\"A modifier agent.\")\n",
    "        self._modify_val = modify_val\n",
    "\n",
    "    @message_handler\n",
    "    async def handle_message(self, message: Message, ctx: MessageContext) -> None:\n",
    "        val = self._modify_val(message.content)\n",
    "        print(f\"{'-'*80}\\nModifier:\\nModified {message.content} to {val}\")\n",
    "        await self.publish_message(Message(content=val), DefaultTopicId())  # type: ignore\n",
    "\n",
    "\n",
    "@default_subscription\n",
    "class Checker(RoutedAgent):\n",
    "    def __init__(self, run_until: Callable[[int], bool]) -> None:\n",
    "        super().__init__(\"A checker agent.\")\n",
    "        self._run_until = run_until\n",
    "\n",
    "    @message_handler\n",
    "    async def handle_message(self, message: Message, ctx: MessageContext) -> None:\n",
    "        if not self._run_until(message.content):\n",
    "            print(f\"{'-'*80}\\nChecker:\\n{message.content} passed the check, continue.\")\n",
    "            await self.publish_message(\n",
    "                Message(content=message.content), DefaultTopicId()\n",
    "            )\n",
    "        else:\n",
    "            print(f\"{'-'*80}\\nChecker:\\n{message.content} failed the check, stopping.\")"
   ]
  },
  {
   "cell_type": "markdown",
   "metadata": {},
   "source": [
    "**Core idea**: while agents are responsible for their own logic, the framework is responsible for providing a communication infrastructure, We call the communication infrastructure an **AGENT RUNTIME**.\n",
    "\n",
    "Agent runtime is a key concept: besides delivering messages, it also manages agents’ lifecycle. So the creation of agents are handled by the runtime itself.\n",
    "\n",
    "Here we use *SingleThreadedAgentRuntime*, a local embedded agent runtime implementation.\n"
   ]
  },
  {
   "cell_type": "code",
   "execution_count": 16,
   "metadata": {},
   "outputs": [
    {
     "name": "stdout",
     "output_type": "stream",
     "text": []
    }
   ],
   "source": [
    "from enum import StrEnum, auto\n",
    "\n",
    "\n",
    "# agent types (indicates each agent \"family\" -> different from agent's class)\n",
    "class AgentType(StrEnum):\n",
    "    MODIFIER: str = auto()\n",
    "    CHECKER: str = auto()\n",
    "\n",
    "\n",
    "# Create an local embedded runtime.\n",
    "runtime = SingleThreadedAgentRuntime()\n",
    "\n",
    "# Register the modifier and checker agents by providing\n",
    "# their agent types, the factory functions for creating instance and subscriptions.\n",
    "await Modifier.register(\n",
    "    runtime,\n",
    "    AgentType.MODIFIER,\n",
    "    # Modify the value by subtracting 1\n",
    "    lambda: Modifier(modify_val=lambda x: x - 1),\n",
    ")\n",
    "\n",
    "await Checker.register(\n",
    "    runtime,\n",
    "    AgentType.CHECKER,\n",
    "    # Run until the value is less than or equal to 1\n",
    "    lambda: Checker(run_until=lambda x: x <= 1),\n",
    ")"
   ]
  },
  {
   "cell_type": "code",
   "execution_count": 17,
   "metadata": {},
   "outputs": [
    {
     "name": "stdout",
     "output_type": "stream",
     "text": []
    }
   ],
   "source": [
    "# Start the runtime and send a direct message to the checker.\n",
    "runtime.start()\n",
    "await runtime.send_message(Message(content=10), AgentId(\"checker\", \"default\"))\n",
    "await runtime.stop_when_idle()"
   ]
  },
  {
   "cell_type": "code",
   "execution_count": null,
   "metadata": {},
   "outputs": [],
   "source": []
  }
 ],
 "metadata": {
  "kernelspec": {
   "display_name": ".venv",
   "language": "python",
   "name": "python3"
  },
  "language_info": {
   "codemirror_mode": {
    "name": "ipython",
    "version": 3
   },
   "file_extension": ".py",
   "mimetype": "text/x-python",
   "name": "python",
   "nbconvert_exporter": "python",
   "pygments_lexer": "ipython3",
   "version": "3.13.2"
  }
 },
 "nbformat": 4,
 "nbformat_minor": 2
}
