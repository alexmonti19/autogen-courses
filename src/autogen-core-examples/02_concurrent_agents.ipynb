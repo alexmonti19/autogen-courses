{
 "cells": [
  {
   "cell_type": "markdown",
   "metadata": {},
   "source": []
  },
  {
   "cell_type": "code",
   "execution_count": 1,
   "metadata": {},
   "outputs": [],
   "source": [
    "from pydantic import BaseModel\n",
    "\n",
    "\n",
    "class Task(BaseModel):\n",
    "    task_id: str\n",
    "\n",
    "\n",
    "class TaskResponse(BaseModel):\n",
    "    task_id: str\n",
    "    result: str"
   ]
  },
  {
   "cell_type": "markdown",
   "metadata": {},
   "source": [
    "## Single message & multiple processors\n",
    "Demonstrates how a single message can be processed by multiple agents subscribed to the same topic simultaneously.\n",
    "- Each `Processor` agent subscribes to the default topic using the `default_subscription()` decorator.\n",
    "- When publishing a message to the default topic, all registered agents will process the message independently.\n",
    "\n",
    "Below, we are subscribing `Processor` using the `default_subscription()` decorator, there’s an alternative way to subscribe an agent without using decorators altogether as shown in [Subscribe and Publish to Topics](https://microsoft.github.io/autogen/stable/user-guide/core-user-guide/framework/message-and-communication.html#subscribe-and-publish-to-topics), this way the same agent classcan be subscribed to different topics.\n",
    "\n"
   ]
  },
  {
   "cell_type": "code",
   "execution_count": 2,
   "metadata": {},
   "outputs": [],
   "source": [
    "from autogen_core import (\n",
    "    DefaultTopicId,\n",
    "    MessageContext,\n",
    "    RoutedAgent,\n",
    "    default_subscription,\n",
    "    message_handler,\n",
    ")\n",
    "\n",
    "import asyncio\n",
    "\n",
    "\n",
    "@default_subscription\n",
    "class Processor(RoutedAgent):\n",
    "    @message_handler\n",
    "    async def on_task(self, message: Task, ctx: MessageContext) -> None:\n",
    "        print(f\"{self._description} starting task {message.task_id}\")\n",
    "        await asyncio.sleep(2)  # Simulate work\n",
    "        print(f\"{self._description} finished task {message.task_id}\")"
   ]
  },
  {
   "cell_type": "code",
   "execution_count": 3,
   "metadata": {},
   "outputs": [
    {
     "name": "stdout",
     "output_type": "stream",
     "text": [
      "Agent 1 starting task task-1\n",
      "Agent 2 starting task task-1\n",
      "Agent 1 finished task task-1\n",
      "Agent 2 finished task task-1\n"
     ]
    }
   ],
   "source": [
    "from autogen_core import SingleThreadedAgentRuntime\n",
    "\n",
    "runtime: SingleThreadedAgentRuntime = SingleThreadedAgentRuntime()\n",
    "\n",
    "await Processor.register(runtime, \"agent_1\", lambda: Processor(description=\"Agent 1\"))\n",
    "await Processor.register(runtime, \"agent_2\", lambda: Processor(description=\"Agent 2\"))\n",
    "\n",
    "runtime.start()\n",
    "\n",
    "await runtime.publish_message(Task(task_id=\"task-1\"), topic_id=DefaultTopicId())\n",
    "\n",
    "await runtime.stop_when_idle()"
   ]
  },
  {
   "cell_type": "markdown",
   "metadata": {},
   "source": [
    "## Multiple messages & Multiple Processors\n",
    "Second, this pattern demonstrates routing different types of messages to specific processors:\n",
    "- `UrgentProcessor` subscribes to the “urgent” topic\n",
    "- `NormalProcessor` subscribes to the “normal” topic\n",
    "\n",
    "We make an agent subscribe to a specific topic type using the `type_subscription()` decorator.\n"
   ]
  },
  {
   "cell_type": "code",
   "execution_count": 4,
   "metadata": {},
   "outputs": [],
   "source": [
    "from enum import StrEnum, auto\n",
    "\n",
    "\n",
    "class TopicType(StrEnum):\n",
    "    URGENT = auto()\n",
    "    NORMAL = auto()\n",
    "    TASK_RESULTS = auto()\n",
    "\n",
    "\n",
    "class AgentType(StrEnum):\n",
    "    URGENT_PROCESSOR = auto()\n",
    "    NORMAL_PROCESSOR = auto()"
   ]
  },
  {
   "cell_type": "code",
   "execution_count": 5,
   "metadata": {},
   "outputs": [],
   "source": [
    "from autogen_core import type_subscription, TopicId, RoutedAgent, MessageContext\n",
    "import asyncio\n",
    "\n",
    "\n",
    "task_results_topic_id: TopicId = TopicId(type=TopicType.TASK_RESULTS, source=\"default\")\n",
    "\n",
    "\n",
    "@type_subscription(topic_type=TopicType.URGENT)\n",
    "class UrgentProcessor(RoutedAgent):\n",
    "    @message_handler\n",
    "    async def on_task(self, message: Task, ctx: MessageContext) -> None:\n",
    "        print(f\"Urgent processor starting task '{message.task_id}'\")\n",
    "        await asyncio.sleep(1)  # Simulate work\n",
    "        print(f\"Urgent processor finished task '{message.task_id}'\")\n",
    "\n",
    "        task_response = TaskResponse(\n",
    "            task_id=message.task_id, result=\"Results by Urgent Processor\"\n",
    "        )\n",
    "        await self.publish_message(task_response, topic_id=task_results_topic_id)\n",
    "\n",
    "\n",
    "@type_subscription(topic_type=TopicType.NORMAL)\n",
    "class NormalProcessor(RoutedAgent):\n",
    "    @message_handler\n",
    "    async def on_task(self, message: Task, ctx: MessageContext) -> None:\n",
    "        print(f\"Normal processor starting task '{message.task_id}'\")\n",
    "        await asyncio.sleep(3)  # Simulate work\n",
    "        print(f\"Normal processor finished task '{message.task_id}'\")\n",
    "\n",
    "        task_response = TaskResponse(\n",
    "            task_id=message.task_id, result=\"Results by Normal Processor\"\n",
    "        )\n",
    "        await self.publish_message(task_response, topic_id=task_results_topic_id)"
   ]
  },
  {
   "cell_type": "code",
   "execution_count": 6,
   "metadata": {},
   "outputs": [
    {
     "name": "stdout",
     "output_type": "stream",
     "text": [
      "Normal processor starting task 'normal-1'\n",
      "Urgent processor starting task 'urgent-1'\n"
     ]
    },
    {
     "name": "stdout",
     "output_type": "stream",
     "text": [
      "Urgent processor finished task 'urgent-1'\n",
      "Normal processor finished task 'normal-1'\n"
     ]
    }
   ],
   "source": [
    "from autogen_core import SingleThreadedAgentRuntime\n",
    "\n",
    "runtime: SingleThreadedAgentRuntime = SingleThreadedAgentRuntime()\n",
    "\n",
    "await UrgentProcessor.register(\n",
    "    runtime,\n",
    "    AgentType.URGENT_PROCESSOR,\n",
    "    lambda: UrgentProcessor(description=\"Urgent Processor\"),\n",
    ")\n",
    "await NormalProcessor.register(\n",
    "    runtime,\n",
    "    AgentType.NORMAL_PROCESSOR,\n",
    "    lambda: NormalProcessor(description=\"Normal Processor\"),\n",
    ")\n",
    "\n",
    "runtime.start()\n",
    "\n",
    "await runtime.publish_message(\n",
    "    Task(task_id=\"normal-1\"), topic_id=TopicId(type=\"normal\", source=\"default\")\n",
    ")\n",
    "await runtime.publish_message(\n",
    "    Task(task_id=\"urgent-1\"), topic_id=TopicId(type=\"urgent\", source=\"default\")\n",
    ")\n",
    "\n",
    "await runtime.stop_when_idle()"
   ]
  },
  {
   "cell_type": "markdown",
   "metadata": {},
   "source": [
    "## Collecting results\n",
    "We typically want to collect results programmatically. \n",
    "\n",
    " We’ve defined a dedicated topic `TASK_RESULT` where both `UrgentProcessor` and `NormalProcessor` publish their results. To collect these result messages, we’ll use a `ClosureAgent`: the `ClosureAgent` will process messages from `TASK_RESULT` this topic.\n"
   ]
  },
  {
   "cell_type": "code",
   "execution_count": 21,
   "metadata": {},
   "outputs": [],
   "source": [
    "from enum import StrEnum, auto\n",
    "\n",
    "\n",
    "class TopicType(StrEnum):\n",
    "    URGENT = auto()\n",
    "    NORMAL = auto()\n",
    "    TASK_RESULTS = auto()\n",
    "\n",
    "\n",
    "class AgentType(StrEnum):\n",
    "    URGENT_PROCESSOR = auto()\n",
    "    NORMAL_PROCESSOR = auto()\n",
    "    CLOSURE_AGENT = auto()"
   ]
  },
  {
   "cell_type": "code",
   "execution_count": 22,
   "metadata": {},
   "outputs": [],
   "source": [
    "from autogen_core import type_subscription, TopicId, RoutedAgent, MessageContext\n",
    "import asyncio\n",
    "\n",
    "\n",
    "task_results_topic_id: TopicId = TopicId(type=TopicType.TASK_RESULTS, source=\"default\")\n",
    "\n",
    "\n",
    "@type_subscription(topic_type=TopicType.URGENT)\n",
    "class UrgentProcessor(RoutedAgent):\n",
    "    @message_handler\n",
    "    async def on_task(self, message: Task, ctx: MessageContext) -> None:\n",
    "        print(f\"Urgent processor starting task '{message.task_id}'\")\n",
    "        await asyncio.sleep(1)  # Simulate work\n",
    "        print(f\"Urgent processor finished task '{message.task_id}'\")\n",
    "\n",
    "        task_response = TaskResponse(\n",
    "            task_id=message.task_id, result=\"Results by Urgent Processor\"\n",
    "        )\n",
    "        await self.publish_message(task_response, topic_id=task_results_topic_id)\n",
    "\n",
    "\n",
    "@type_subscription(topic_type=TopicType.NORMAL)\n",
    "class NormalProcessor(RoutedAgent):\n",
    "    @message_handler\n",
    "    async def on_task(self, message: Task, ctx: MessageContext) -> None:\n",
    "        print(f\"Normal processor starting task '{message.task_id}'\")\n",
    "        await asyncio.sleep(3)  # Simulate work\n",
    "        print(f\"Normal processor finished task '{message.task_id}'\")\n",
    "\n",
    "        task_response = TaskResponse(\n",
    "            task_id=message.task_id, result=\"Results by Normal Processor\"\n",
    "        )\n",
    "        await self.publish_message(task_response, topic_id=task_results_topic_id)"
   ]
  },
  {
   "cell_type": "code",
   "execution_count": 23,
   "metadata": {},
   "outputs": [],
   "source": [
    "from autogen_core import ClosureContext, MessageContext\n",
    "\n",
    "# python queue where collect_result will put the results\n",
    "queue = asyncio.Queue[TaskResponse]()\n",
    "\n",
    "\n",
    "# func to consume messages on TASK_RESULT topic; it will called by ClosureAgent via lambda\n",
    "async def collect_result(\n",
    "    _agent: ClosureContext, message: TaskResponse, ctx: MessageContext\n",
    ") -> None:\n",
    "    await queue.put(message)"
   ]
  },
  {
   "cell_type": "code",
   "execution_count": 24,
   "metadata": {},
   "outputs": [
    {
     "name": "stdout",
     "output_type": "stream",
     "text": [
      "Normal processor starting task 'normal-1'\n",
      "Urgent processor starting task 'urgent-1'\n",
      "Urgent processor finished task 'urgent-1'\n",
      "Normal processor finished task 'normal-1'\n"
     ]
    }
   ],
   "source": [
    "from autogen_core import ClosureAgent, TypeSubscription\n",
    "\n",
    "runtime: SingleThreadedAgentRuntime = SingleThreadedAgentRuntime()\n",
    "\n",
    "# register processor agents\n",
    "await UrgentProcessor.register(\n",
    "    runtime,\n",
    "    AgentType.URGENT_PROCESSOR,\n",
    "    lambda: UrgentProcessor(description=\"Urgent Processor\"),\n",
    ")\n",
    "await NormalProcessor.register(\n",
    "    runtime,\n",
    "    AgentType.NORMAL_PROCESSOR,\n",
    "    lambda: NormalProcessor(description=\"Normal Processor\"),\n",
    ")\n",
    "\n",
    "# register the closure agent; attach the collect_result function via lambda\n",
    "await ClosureAgent.register_closure(\n",
    "    runtime,\n",
    "    AgentType.CLOSURE_AGENT,\n",
    "    collect_result,\n",
    "    subscriptions=lambda: [\n",
    "        TypeSubscription(\n",
    "            topic_type=TopicType.TASK_RESULTS, agent_type=AgentType.CLOSURE_AGENT\n",
    "        )\n",
    "    ],\n",
    ")\n",
    "\n",
    "runtime.start()\n",
    "\n",
    "# publish messages and wait for processing to finish\n",
    "await runtime.publish_message(\n",
    "    Task(task_id=\"normal-1\"), topic_id=TopicId(type=TopicType.NORMAL, source=\"default\")\n",
    ")\n",
    "await runtime.publish_message(\n",
    "    Task(task_id=\"urgent-1\"), topic_id=TopicId(type=TopicType.URGENT, source=\"default\")\n",
    ")\n",
    "\n",
    "await runtime.stop_when_idle()"
   ]
  },
  {
   "cell_type": "code",
   "execution_count": 25,
   "metadata": {},
   "outputs": [
    {
     "name": "stdout",
     "output_type": "stream",
     "text": [
      "task_id='urgent-1' result='Results by Urgent Processor'\n",
      "task_id='normal-1' result='Results by Normal Processor'\n"
     ]
    }
   ],
   "source": [
    "# consume the results from the queue\n",
    "while not queue.empty():\n",
    "    print(await queue.get())"
   ]
  }
 ],
 "metadata": {
  "kernelspec": {
   "display_name": ".venv",
   "language": "python",
   "name": "python3"
  },
  "language_info": {
   "codemirror_mode": {
    "name": "ipython",
    "version": 3
   },
   "file_extension": ".py",
   "mimetype": "text/x-python",
   "name": "python",
   "nbconvert_exporter": "python",
   "pygments_lexer": "ipython3",
   "version": "3.13.2"
  }
 },
 "nbformat": 4,
 "nbformat_minor": 2
}
