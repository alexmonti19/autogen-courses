{
 "cells": [
  {
   "cell_type": "markdown",
   "id": "8140b161",
   "metadata": {},
   "source": [
    "# Lesson 2: Sequential Chats and Customer Onboarding"
   ]
  },
  {
   "cell_type": "markdown",
   "id": "e9d4d307",
   "metadata": {},
   "source": [
    "## Setup"
   ]
  },
  {
   "cell_type": "code",
   "execution_count": 1,
   "id": "24b75995-4ee4-4ff0-9c44-3943caae37e7",
   "metadata": {
    "height": 30
   },
   "outputs": [],
   "source": [
    "import os\n",
    "import getpass\n",
    "\n",
    "\n",
    "def _set_env(var: str):\n",
    "    if not os.environ.get(var):\n",
    "        os.environ[var] = getpass.getpass(f\"{var}: \")\n",
    "\n",
    "\n",
    "_set_env(\"AZURE_OPENAI_API_KEY\")\n",
    "_set_env(\"AZURE_OPENAI_ENDPOINT\")\n",
    "_set_env(\"AZURE_OPENAI_API_VERSION\")\n",
    "_set_env(\"AZURE_OPENAI_DEPLOYMENT_NAME\")"
   ]
  },
  {
   "cell_type": "code",
   "execution_count": 4,
   "id": "b714b544",
   "metadata": {},
   "outputs": [],
   "source": [
    "llm_config: dict = {\n",
    "    \"config_list\": [\n",
    "        {\n",
    "            \"model\": os.environ[\"AZURE_OPENAI_DEPLOYMENT_NAME\"],\n",
    "            \"api_type\": \"azure\",\n",
    "            \"api_key\": os.environ[\"AZURE_OPENAI_API_KEY\"],\n",
    "            \"base_url\": os.environ[\"AZURE_OPENAI_ENDPOINT\"],\n",
    "            \"api_version\": os.environ[\"AZURE_OPENAI_API_VERSION\"],\n",
    "        }\n",
    "    ]\n",
    "}"
   ]
  },
  {
   "cell_type": "markdown",
   "id": "76f979f9",
   "metadata": {},
   "source": [
    "## Creating the needed agents"
   ]
  },
  {
   "cell_type": "code",
   "execution_count": 17,
   "id": "bf0fe96f",
   "metadata": {},
   "outputs": [],
   "source": [
    "from autogen import ConversableAgent"
   ]
  },
  {
   "cell_type": "code",
   "execution_count": 18,
   "id": "a527bb1e-dd4e-47b0-a1b7-a9cbcd87cbdb",
   "metadata": {
    "height": 200
   },
   "outputs": [],
   "source": [
    "onboarding_personal_information_agent: ConversableAgent = ConversableAgent(\n",
    "    name=\"Onboarding_Personal_Information_Agent\",\n",
    "    system_message=\"\"\"You are a helpful customer onboarding agent,\n",
    "    you are here to help new customers get started with our product.\n",
    "    Your job is to gather customer's name and location.\n",
    "    Do not ask for other information. Return 'TERMINATE' \n",
    "    when you have gathered all the information.\"\"\",\n",
    "    llm_config=llm_config,\n",
    "    code_execution_config=False,\n",
    "    human_input_mode=\"NEVER\",\n",
    ")"
   ]
  },
  {
   "cell_type": "code",
   "execution_count": 19,
   "id": "51bc9a24-a680-444d-943b-b740bce0189d",
   "metadata": {
    "height": 200
   },
   "outputs": [],
   "source": [
    "onboarding_topic_preference_agent: ConversableAgent = ConversableAgent(\n",
    "    name=\"Onboarding_Topic_preference_Agent\",\n",
    "    system_message=\"\"\"You are a helpful customer onboarding agent,\n",
    "    you are here to help new customers get started with our product.\n",
    "    Your job is to gather customer's preferences on news topics.\n",
    "    Do not ask for other information.\n",
    "    Return 'TERMINATE' when you have gathered all the information.\"\"\",\n",
    "    llm_config=llm_config,\n",
    "    code_execution_config=False,\n",
    "    human_input_mode=\"NEVER\",\n",
    ")"
   ]
  },
  {
   "cell_type": "code",
   "execution_count": 20,
   "id": "6755a7fc-cb17-4d62-a03f-48e260f39010",
   "metadata": {
    "height": 234
   },
   "outputs": [],
   "source": [
    "customer_engagement_agent: ConversableAgent = ConversableAgent(\n",
    "    name=\"Customer_Engagement_Agent\",\n",
    "    system_message=\"\"\"You are a helpful customer service agent\n",
    "    here to provide fun for the customer based on the user's\n",
    "    personal information and topic preferences.\n",
    "    This could include fun facts, jokes, or interesting stories.\n",
    "    Make sure to make it engaging and fun!\n",
    "    Return 'TERMINATE' when you are done.\"\"\",\n",
    "    llm_config=llm_config,\n",
    "    code_execution_config=False,\n",
    "    human_input_mode=\"NEVER\",\n",
    "    is_termination_msg=lambda msg: \"terminate\" in msg.get(\"content\").lower(),\n",
    ")"
   ]
  },
  {
   "cell_type": "code",
   "execution_count": 21,
   "id": "64267c0b-f7f2-46e6-ab44-6f7b5fbd9db7",
   "metadata": {
    "height": 132
   },
   "outputs": [],
   "source": [
    "customer_proxy_agent: ConversableAgent = ConversableAgent(\n",
    "    name=\"customer_proxy_agent\",\n",
    "    llm_config=False,\n",
    "    code_execution_config=False,\n",
    "    human_input_mode=\"ALWAYS\",\n",
    "    is_termination_msg=lambda msg: \"terminate\" in msg.get(\"content\").lower(),\n",
    ")"
   ]
  },
  {
   "cell_type": "markdown",
   "id": "4f240408",
   "metadata": {},
   "source": [
    "## Creating tasks\n",
    "\n",
    "Now, you can craft a series of tasks to facilitate the onboarding process."
   ]
  },
  {
   "cell_type": "code",
   "execution_count": null,
   "id": "2b15af1d-7042-4569-a936-7966be203f05",
   "metadata": {
    "height": 591
   },
   "outputs": [],
   "source": [
    "chats: list[dict] = [\n",
    "    {\n",
    "        \"sender\": onboarding_personal_information_agent,\n",
    "        \"recipient\": customer_proxy_agent,\n",
    "        \"message\": \"Hello, I'm here to help you get started with our product.\"\n",
    "        \"Could you tell me your name and location?\",\n",
    "        \"summary_method\": \"reflection_with_llm\",\n",
    "        \"summary_args\": {\n",
    "            \"summary_prompt\": \"Return the customer information \"\n",
    "            \"into as JSON object only: \"\n",
    "            \"{'name': '', 'location': ''}\",\n",
    "        },\n",
    "        \"max_turns\": 2,\n",
    "        \"clear_history\": True,\n",
    "    },\n",
    "    {\n",
    "        \"sender\": onboarding_topic_preference_agent,\n",
    "        \"recipient\": customer_proxy_agent,\n",
    "        \"message\": \"Great! Could you tell me what topics you are \"\n",
    "        \"interested in reading about?\",\n",
    "        \"summary_method\": \"reflection_with_llm\",\n",
    "        \"max_turns\": 1,\n",
    "        \"clear_history\": False,\n",
    "    },\n",
    "    {\n",
    "        \"sender\": customer_proxy_agent,\n",
    "        \"recipient\": customer_engagement_agent,\n",
    "        \"message\": \"Let's find something fun to read.\",\n",
    "        \"max_turns\": 1,\n",
    "        \"summary_method\": \"reflection_with_llm\",\n",
    "    },\n",
    "]"
   ]
  },
  {
   "cell_type": "markdown",
   "id": "862a066b",
   "metadata": {},
   "source": [
    "## Start the onboarding process"
   ]
  },
  {
   "cell_type": "markdown",
   "id": "e0fa8f99",
   "metadata": {},
   "source": [
    "**Note**: You might get a slightly different response than what's shown in the video. Feel free to try different inputs, such as name, location, and preferences."
   ]
  },
  {
   "cell_type": "code",
   "execution_count": 23,
   "id": "9d6d1d4a-0b50-41a5-a1f0-3ff208398bc6",
   "metadata": {
    "height": 64
   },
   "outputs": [
    {
     "name": "stdout",
     "output_type": "stream",
     "text": [
      "\u001b[34m\n",
      "********************************************************************************\u001b[0m\n",
      "\u001b[34mStarting a new chat....\u001b[0m\n",
      "\u001b[34m\n",
      "********************************************************************************\u001b[0m\n",
      "\u001b[33mOnboarding_Personal_Information_Agent\u001b[0m (to customer_proxy_agent):\n",
      "\n",
      "Hello, I'm here to help you get started with our product.Could you tell me your name and location?\n",
      "\n",
      "--------------------------------------------------------------------------------\n",
      "\u001b[33mcustomer_proxy_agent\u001b[0m (to Onboarding_Personal_Information_Agent):\n",
      "\n",
      "Alex\n",
      "\n",
      "--------------------------------------------------------------------------------\n",
      "\u001b[33mOnboarding_Personal_Information_Agent\u001b[0m (to customer_proxy_agent):\n",
      "\n",
      "Thank you, Alex! And could you please tell me your location?\n",
      "\n",
      "--------------------------------------------------------------------------------\n",
      "\u001b[33mcustomer_proxy_agent\u001b[0m (to Onboarding_Personal_Information_Agent):\n",
      "\n",
      "Modena\n",
      "\n",
      "--------------------------------------------------------------------------------\n",
      "\u001b[31m\n",
      ">>>>>>>> TERMINATING RUN (dae81c08-541d-4126-af5b-6e23afdf1ae5): Maximum turns (2) reached\u001b[0m\n",
      "\u001b[34m\n",
      "********************************************************************************\u001b[0m\n",
      "\u001b[34mStarting a new chat....\u001b[0m\n",
      "\u001b[34m\n",
      "********************************************************************************\u001b[0m\n",
      "\u001b[33mOnboarding_Topic_preference_Agent\u001b[0m (to customer_proxy_agent):\n",
      "\n",
      "Great! Could you tell me what topics you are interested in reading about?\n",
      "Context: \n",
      "```json\n",
      "{\n",
      "  \"name\": \"Alex\",\n",
      "  \"location\": \"Modena\"\n",
      "}\n",
      "```\n",
      "\n",
      "--------------------------------------------------------------------------------\n",
      "\u001b[33mcustomer_proxy_agent\u001b[0m (to Onboarding_Topic_preference_Agent):\n",
      "\n",
      "F1\n",
      "\n",
      "--------------------------------------------------------------------------------\n",
      "\u001b[31m\n",
      ">>>>>>>> TERMINATING RUN (431204ce-ffff-4498-9083-121c52ae1963): Maximum turns (1) reached\u001b[0m\n",
      "\u001b[34m\n",
      "********************************************************************************\u001b[0m\n",
      "\u001b[34mStarting a new chat....\u001b[0m\n",
      "\u001b[34m\n",
      "********************************************************************************\u001b[0m\n",
      "\u001b[33mcustomer_proxy_agent\u001b[0m (to Customer_Engagement_Agent):\n",
      "\n",
      "Let's find something fun to read.\n",
      "Context: \n",
      "```json\n",
      "{\n",
      "  \"name\": \"Alex\",\n",
      "  \"location\": \"Modena\"\n",
      "}\n",
      "```\n",
      "Alex, located in Modena, is interested in reading about F1.\n",
      "\n",
      "--------------------------------------------------------------------------------\n",
      "\u001b[33mCustomer_Engagement_Agent\u001b[0m (to customer_proxy_agent):\n",
      "\n",
      "Hi Alex! 🚗💨 Since you're in Modena, which is right in the heart of motorsport territory, how about some fun facts about Formula 1 that will rev up your engines? \n",
      "\n",
      "1. **The Birthplace of F1 Legends**: Did you know that Modena is not just famous for its delicious balsamic vinegar but is also the 'Land of Engines'? It's home to famous car manufacturers like Ferrari, Lamborghini, and Maserati! You’re living in a historic automotive capital!\n",
      "\n",
      "2. **The Fastest Pit Stop**: The record for the fastest F1 pit stop is just 1.82 seconds! This jaw-dropping record was set by Red Bull Racing at the Brazilian Grand Prix in 2019. Blink and you might miss it!\n",
      "\n",
      "3. **The Original Road**: The first F1 championship race was held in 1950 in Silverstone, England, but the first Grand Prix in Italy occurred in 1921 in Brescia. Italy has a huge historical presence in motorsport!\n",
      "\n",
      "4. **Team Orders**: The infamous team orders in F1 can lead to intense rivalry and drama! The most famous case? The 2002 Austrian Grand Prix where Ferrari directed Rubens Barrichello to let Michael Schumacher win. The audience didn’t think it was fair — talk about a race with a twist!\n",
      "\n",
      "And since you might appreciate a laugh, here's an F1-themed joke for you:\n",
      "\n",
      "Why do Formula 1 drivers like to take naps?\n",
      "\n",
      "Because they always want to be **well-rested** before a race! 😄\n",
      "\n",
      "I hope these fun bits about F1 add a little zoom to your reading! If you need more, just let me know! TERMINATE\n",
      "\n",
      "--------------------------------------------------------------------------------\n",
      "\u001b[31m\n",
      ">>>>>>>> TERMINATING RUN (469432bf-6374-4dcf-9f8f-b85ca60cb045): Maximum turns (1) reached\u001b[0m\n"
     ]
    }
   ],
   "source": [
    "from autogen import initiate_chats\n",
    "from autogen.agentchat.chat import ChatResult\n",
    "\n",
    "chat_results: list[ChatResult] = initiate_chats(chats)"
   ]
  },
  {
   "cell_type": "markdown",
   "id": "4f9e2713",
   "metadata": {},
   "source": [
    "## Print out the summary"
   ]
  },
  {
   "cell_type": "code",
   "execution_count": 24,
   "id": "1e122f8a-1ceb-4635-9672-662114b0552a",
   "metadata": {
    "height": 64
   },
   "outputs": [
    {
     "name": "stdout",
     "output_type": "stream",
     "text": [
      "```json\n",
      "{\n",
      "  \"name\": \"Alex\",\n",
      "  \"location\": \"Modena\"\n",
      "}\n",
      "```\n",
      "\n",
      "\n",
      "Alex, located in Modena, is interested in reading about F1.\n",
      "\n",
      "\n",
      "Alex is interested in Formula 1 and enjoys learning fun facts about it, especially considering their location in Modena, an automotive hub. Key points shared include Modena's significance in motorsport, the fastest pit stop record, historical relevance of F1 in Italy, and the drama of team orders. A light-hearted F1 joke was also included for amusement.\n",
      "\n",
      "\n"
     ]
    }
   ],
   "source": [
    "for chat_result in chat_results:\n",
    "    print(chat_result.summary)\n",
    "    print(\"\\n\")"
   ]
  },
  {
   "cell_type": "markdown",
   "id": "a674c4eb",
   "metadata": {},
   "source": [
    "## Print out the cost"
   ]
  },
  {
   "cell_type": "code",
   "execution_count": 25,
   "id": "8b82a10a-afe5-4ba3-97b4-41c8c14b739f",
   "metadata": {
    "height": 64
   },
   "outputs": [
    {
     "name": "stdout",
     "output_type": "stream",
     "text": [
      "{'usage_including_cached_inference': {'total_cost': 5.4449999999999995e-05, 'gpt-4o-mini-2024-07-18': {'cost': 5.4449999999999995e-05, 'prompt_tokens': 215, 'completion_tokens': 37, 'total_tokens': 252}}, 'usage_excluding_cached_inference': {'total_cost': 5.4449999999999995e-05, 'gpt-4o-mini-2024-07-18': {'cost': 5.4449999999999995e-05, 'prompt_tokens': 215, 'completion_tokens': 37, 'total_tokens': 252}}}\n",
      "\n",
      "\n",
      "{'usage_including_cached_inference': {'total_cost': 2.2349999999999998e-05, 'gpt-4o-mini-2024-07-18': {'cost': 2.2349999999999998e-05, 'prompt_tokens': 85, 'completion_tokens': 16, 'total_tokens': 101}}, 'usage_excluding_cached_inference': {'total_cost': 2.2349999999999998e-05, 'gpt-4o-mini-2024-07-18': {'cost': 2.2349999999999998e-05, 'prompt_tokens': 85, 'completion_tokens': 16, 'total_tokens': 101}}}\n",
      "\n",
      "\n",
      "{'usage_including_cached_inference': {'total_cost': 0.00033749999999999996, 'gpt-4o-mini-2024-07-18': {'cost': 0.00033749999999999996, 'prompt_tokens': 562, 'completion_tokens': 422, 'total_tokens': 984}}, 'usage_excluding_cached_inference': {'total_cost': 0.00033749999999999996, 'gpt-4o-mini-2024-07-18': {'cost': 0.00033749999999999996, 'prompt_tokens': 562, 'completion_tokens': 422, 'total_tokens': 984}}}\n",
      "\n",
      "\n"
     ]
    }
   ],
   "source": [
    "for chat_result in chat_results:\n",
    "    print(chat_result.cost)\n",
    "    print(\"\\n\")"
   ]
  },
  {
   "cell_type": "code",
   "execution_count": null,
   "id": "0e7a8ed1",
   "metadata": {},
   "outputs": [],
   "source": []
  }
 ],
 "metadata": {
  "kernelspec": {
   "display_name": ".venv",
   "language": "python",
   "name": "python3"
  },
  "language_info": {
   "codemirror_mode": {
    "name": "ipython",
    "version": 3
   },
   "file_extension": ".py",
   "mimetype": "text/x-python",
   "name": "python",
   "nbconvert_exporter": "python",
   "pygments_lexer": "ipython3",
   "version": "3.13.2"
  }
 },
 "nbformat": 4,
 "nbformat_minor": 5
}
