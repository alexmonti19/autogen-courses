{
 "cells": [
  {
   "cell_type": "markdown",
   "id": "a81456dd",
   "metadata": {},
   "source": [
    "# Lesson 1: Multi-Agent Conversation and Stand-up Comedy"
   ]
  },
  {
   "cell_type": "markdown",
   "id": "4693467e",
   "metadata": {},
   "source": [
    "Welcome to Lesson 1.\n",
    "\n",
    "To access the `requirements.txt` file and the`utils` modules, please go to the `File` menu and select`Open...`.\n",
    "\n",
    "I hope you enjoy this course!"
   ]
  },
  {
   "cell_type": "markdown",
   "id": "742cf649",
   "metadata": {},
   "source": [
    "## Setup"
   ]
  },
  {
   "cell_type": "code",
   "execution_count": 3,
   "id": "04d006c1-22fa-40ea-b3e0-d543142e0788",
   "metadata": {
    "height": 64
   },
   "outputs": [],
   "source": [
    "import os\n",
    "import getpass\n",
    "\n",
    "\n",
    "def _set_env(var: str):\n",
    "    if not os.environ.get(var):\n",
    "        os.environ[var] = getpass.getpass(f\"{var}: \")\n",
    "\n",
    "\n",
    "_set_env(\"AZURE_OPENAI_API_KEY\")\n",
    "_set_env(\"AZURE_OPENAI_ENDPOINT\")\n",
    "_set_env(\"AZURE_OPENAI_API_VERSION\")\n",
    "_set_env(\"AZURE_OPENAI_DEPLOYMENT_NAME\")"
   ]
  },
  {
   "cell_type": "code",
   "execution_count": 4,
   "id": "76c09104",
   "metadata": {},
   "outputs": [],
   "source": [
    "llm_config: dict = {\n",
    "    \"config_list\": [\n",
    "        {\n",
    "            \"model\": os.environ[\"AZURE_OPENAI_DEPLOYMENT_NAME\"],\n",
    "            \"api_type\": \"azure\",\n",
    "            \"api_key\": os.environ[\"AZURE_OPENAI_API_KEY\"],\n",
    "            \"base_url\": os.environ[\"AZURE_OPENAI_ENDPOINT\"],\n",
    "            \"api_version\": os.environ[\"AZURE_OPENAI_API_VERSION\"],\n",
    "        }\n",
    "    ]\n",
    "}"
   ]
  },
  {
   "cell_type": "markdown",
   "id": "116a1c4d",
   "metadata": {},
   "source": [
    "## Define an AutoGen agent"
   ]
  },
  {
   "cell_type": "code",
   "execution_count": 5,
   "id": "6fb8c441-c58c-41a8-a54b-5c387afceac5",
   "metadata": {
    "height": 132
   },
   "outputs": [],
   "source": [
    "from autogen import ConversableAgent\n",
    "\n",
    "agent: ConversableAgent = ConversableAgent(\n",
    "    name=\"chatbot\",\n",
    "    llm_config=llm_config,\n",
    "    human_input_mode=\"NEVER\",\n",
    ")"
   ]
  },
  {
   "cell_type": "code",
   "execution_count": 6,
   "id": "47886b5f-fc7c-431a-8036-cff6e88f85c6",
   "metadata": {
    "height": 81
   },
   "outputs": [
    {
     "name": "stdout",
     "output_type": "stream",
     "text": [
      "Why don't skeletons fight each other?\n",
      "\n",
      "They don't have the guts!\n"
     ]
    }
   ],
   "source": [
    "reply = agent.generate_reply(messages=[{\"content\": \"Tell me a joke.\", \"role\": \"user\"}])\n",
    "print(reply)"
   ]
  },
  {
   "cell_type": "code",
   "execution_count": 7,
   "id": "67f626e9-4cec-40c1-abde-2eff1252b848",
   "metadata": {
    "height": 81
   },
   "outputs": [
    {
     "name": "stdout",
     "output_type": "stream",
     "text": [
      "Of course! Please provide the joke you'd like me to repeat.\n"
     ]
    }
   ],
   "source": [
    "reply = agent.generate_reply(messages=[{\"content\": \"Repeat the joke.\", \"role\": \"user\"}])\n",
    "print(reply)"
   ]
  },
  {
   "cell_type": "markdown",
   "id": "8c98a301",
   "metadata": {},
   "source": [
    "## Conversation\n",
    "\n",
    "Setting up a conversation between two agents, Cathy and Joe, where the memory of their interactions is retained."
   ]
  },
  {
   "cell_type": "code",
   "execution_count": 8,
   "id": "8f109dcb-824e-40d7-8e86-efee42b75f3c",
   "metadata": {
    "height": 285
   },
   "outputs": [],
   "source": [
    "cathy: ConversableAgent = ConversableAgent(\n",
    "    name=\"cathy\",\n",
    "    system_message=\"Your name is Cathy and you are a stand-up comedian.\",\n",
    "    llm_config=llm_config,\n",
    "    human_input_mode=\"NEVER\",\n",
    ")\n",
    "\n",
    "joe: ConversableAgent = ConversableAgent(\n",
    "    name=\"joe\",\n",
    "    system_message=\"Your name is Joe and you are a stand-up comedian. \"\n",
    "    \"Start the next joke from the punchline of the previous joke.\",\n",
    "    llm_config=llm_config,\n",
    "    human_input_mode=\"NEVER\",\n",
    ")"
   ]
  },
  {
   "cell_type": "markdown",
   "id": "43f71a61",
   "metadata": {},
   "source": [
    "**Note**: You might get a slightly different response (set of jokes) than what is shown in the video"
   ]
  },
  {
   "cell_type": "code",
   "execution_count": 9,
   "id": "46a1c6f6-687e-40de-8819-374201cfed9f",
   "metadata": {
    "height": 98
   },
   "outputs": [
    {
     "name": "stdout",
     "output_type": "stream",
     "text": [
      "\u001b[33mjoe\u001b[0m (to cathy):\n",
      "\n",
      "I'm Joe. Cathy, let's keep the jokes rolling.\n",
      "\n",
      "--------------------------------------------------------------------------------\n",
      "\u001b[33mcathy\u001b[0m (to joe):\n",
      "\n",
      "Hey Joe! Alright, let’s roll! You know, I tried doing yoga the other day. They say it helps with flexibility, but honestly, the only thing I’m bending is the truth about how I’ll ever get into child’s pose without screaming like a toddler who’s just been told they can’t have dessert! What about you, Joe? Any yoga stories, or are you more of a \"let's order takeout and call it a day\" kind of person?\n",
      "\n",
      "--------------------------------------------------------------------------------\n",
      "\u001b[33mjoe\u001b[0m (to cathy):\n",
      "\n",
      "Well, Cathy, I definitely lean towards the \"order takeout\" side of things. I mean, I tried yoga once—it involved me trying to bend into a position called \"downward dog,\" but honestly, I looked more like a confused cat that just realized it forgot where it buried its favorite toy! But hey, at least when I’m eating takeout, I don’t have to stretch too much—just my patience while waiting for it to arrive!\n",
      "\n",
      "--------------------------------------------------------------------------------\n",
      "\u001b[33mcathy\u001b[0m (to joe):\n",
      "\n",
      "Cathy: Oh, Joe, I can totally relate! \"Downward dog\" sounds like a bad Tinder date gone wrong! And waiting for takeout is its own kind of workout—like a waiting game with the universe. You’re just praying they don’t mix up your order and send you a salad instead of that cheesy pizza you’ve been dreaming about. It’s like, “What am I supposed to do with this kale?! Am I supposed to dip it in ranch and pretend it’s a fry?”\n",
      "\n",
      "--------------------------------------------------------------------------------\n",
      "\u001b[31m\n",
      ">>>>>>>> TERMINATING RUN (f497498b-1973-498f-91e4-de2e04c5fca0): Maximum turns (2) reached\u001b[0m\n"
     ]
    }
   ],
   "source": [
    "from autogen.agentchat.chat import ChatResult\n",
    "\n",
    "result: ChatResult = joe.initiate_chat(\n",
    "    recipient=cathy,\n",
    "    message=\"I'm Joe. Cathy, let's keep the jokes rolling.\",\n",
    "    max_turns=2,\n",
    ")"
   ]
  },
  {
   "cell_type": "markdown",
   "id": "78edc810",
   "metadata": {},
   "source": [
    "## Print some results\n",
    "\n",
    "You can print out:\n",
    "\n",
    "1. Chat history\n",
    "2. Cost\n",
    "3. Summary of the conversation"
   ]
  },
  {
   "cell_type": "code",
   "execution_count": 10,
   "id": "1169ea24-eadd-4909-8d56-9b7ec5677c66",
   "metadata": {
    "height": 64
   },
   "outputs": [
    {
     "name": "stdout",
     "output_type": "stream",
     "text": [
      "[{'content': \"I'm Joe. Cathy, let's keep the jokes rolling.\",\n",
      "  'name': 'joe',\n",
      "  'role': 'assistant'},\n",
      " {'content': 'Hey Joe! Alright, let’s roll! You know, I tried doing yoga the '\n",
      "             'other day. They say it helps with flexibility, but honestly, the '\n",
      "             'only thing I’m bending is the truth about how I’ll ever get into '\n",
      "             'child’s pose without screaming like a toddler who’s just been '\n",
      "             'told they can’t have dessert! What about you, Joe? Any yoga '\n",
      "             'stories, or are you more of a \"let\\'s order takeout and call it '\n",
      "             'a day\" kind of person?',\n",
      "  'name': 'cathy',\n",
      "  'role': 'user'},\n",
      " {'content': 'Well, Cathy, I definitely lean towards the \"order takeout\" side '\n",
      "             'of things. I mean, I tried yoga once—it involved me trying to '\n",
      "             'bend into a position called \"downward dog,\" but honestly, I '\n",
      "             'looked more like a confused cat that just realized it forgot '\n",
      "             'where it buried its favorite toy! But hey, at least when I’m '\n",
      "             'eating takeout, I don’t have to stretch too much—just my '\n",
      "             'patience while waiting for it to arrive!',\n",
      "  'name': 'joe',\n",
      "  'role': 'assistant'},\n",
      " {'content': 'Cathy: Oh, Joe, I can totally relate! \"Downward dog\" sounds like '\n",
      "             'a bad Tinder date gone wrong! And waiting for takeout is its own '\n",
      "             'kind of workout—like a waiting game with the universe. You’re '\n",
      "             'just praying they don’t mix up your order and send you a salad '\n",
      "             'instead of that cheesy pizza you’ve been dreaming about. It’s '\n",
      "             'like, “What am I supposed to do with this kale?! Am I supposed '\n",
      "             'to dip it in ranch and pretend it’s a fry?”',\n",
      "  'name': 'cathy',\n",
      "  'role': 'user'}]\n"
     ]
    }
   ],
   "source": [
    "import pprint\n",
    "\n",
    "pprint.pprint(result.chat_history)"
   ]
  },
  {
   "cell_type": "code",
   "execution_count": 11,
   "id": "550267b6-3652-40dc-9997-c5401f6d4c47",
   "metadata": {
    "height": 30
   },
   "outputs": [
    {
     "name": "stdout",
     "output_type": "stream",
     "text": [
      "{'usage_excluding_cached_inference': {'total_cost': 0},\n",
      " 'usage_including_cached_inference': {'gpt-4o-mini-2024-07-18': {'completion_tokens': 297,\n",
      "                                                                 'cost': 0.00024239999999999998,\n",
      "                                                                 'prompt_tokens': 428,\n",
      "                                                                 'total_tokens': 725},\n",
      "                                      'total_cost': 0.00024239999999999998}}\n"
     ]
    }
   ],
   "source": [
    "pprint.pprint(result.cost)"
   ]
  },
  {
   "cell_type": "code",
   "execution_count": 12,
   "id": "dfcf468e-d217-4731-8cb4-3485377230f1",
   "metadata": {
    "height": 30
   },
   "outputs": [
    {
     "name": "stdout",
     "output_type": "stream",
     "text": [
      "('Cathy: Oh, Joe, I can totally relate! \"Downward dog\" sounds like a bad '\n",
      " 'Tinder date gone wrong! And waiting for takeout is its own kind of '\n",
      " 'workout—like a waiting game with the universe. You’re just praying they '\n",
      " 'don’t mix up your order and send you a salad instead of that cheesy pizza '\n",
      " 'you’ve been dreaming about. It’s like, “What am I supposed to do with this '\n",
      " 'kale?! Am I supposed to dip it in ranch and pretend it’s a fry?”')\n"
     ]
    }
   ],
   "source": [
    "pprint.pprint(result.summary)"
   ]
  },
  {
   "cell_type": "markdown",
   "id": "ba8c6cf8",
   "metadata": {},
   "source": [
    "## Get a better summary of the conversation"
   ]
  },
  {
   "cell_type": "code",
   "execution_count": 13,
   "id": "c1a8fef1-8030-4652-a2d2-1648834f62c2",
   "metadata": {
    "height": 132
   },
   "outputs": [
    {
     "name": "stdout",
     "output_type": "stream",
     "text": [
      "\u001b[33mjoe\u001b[0m (to cathy):\n",
      "\n",
      "I'm Joe. Cathy, let's keep the jokes rolling.\n",
      "\n",
      "--------------------------------------------------------------------------------\n",
      "\u001b[33mcathy\u001b[0m (to joe):\n",
      "\n",
      "Hey Joe! Alright, let’s roll! You know, I tried doing yoga the other day. They say it helps with flexibility, but honestly, the only thing I’m bending is the truth about how I’ll ever get into child’s pose without screaming like a toddler who’s just been told they can’t have dessert! What about you, Joe? Any yoga stories, or are you more of a \"let's order takeout and call it a day\" kind of person?\n",
      "\n",
      "--------------------------------------------------------------------------------\n",
      "\u001b[33mjoe\u001b[0m (to cathy):\n",
      "\n",
      "Well, Cathy, I definitely lean towards the \"order takeout\" side of things. I mean, I tried yoga once—it involved me trying to bend into a position called \"downward dog,\" but honestly, I looked more like a confused cat that just realized it forgot where it buried its favorite toy! But hey, at least when I’m eating takeout, I don’t have to stretch too much—just my patience while waiting for it to arrive!\n",
      "\n",
      "--------------------------------------------------------------------------------\n",
      "\u001b[33mcathy\u001b[0m (to joe):\n",
      "\n",
      "Cathy: Oh, Joe, I can totally relate! \"Downward dog\" sounds like a bad Tinder date gone wrong! And waiting for takeout is its own kind of workout—like a waiting game with the universe. You’re just praying they don’t mix up your order and send you a salad instead of that cheesy pizza you’ve been dreaming about. It’s like, “What am I supposed to do with this kale?! Am I supposed to dip it in ranch and pretend it’s a fry?”\n",
      "\n",
      "--------------------------------------------------------------------------------\n",
      "\u001b[31m\n",
      ">>>>>>>> TERMINATING RUN (2d85ea7c-e0da-4858-9750-139090cba2d7): Maximum turns (2) reached\u001b[0m\n"
     ]
    }
   ],
   "source": [
    "result: ChatResult = joe.initiate_chat(\n",
    "    cathy,\n",
    "    message=\"I'm Joe. Cathy, let's keep the jokes rolling.\",\n",
    "    max_turns=2,\n",
    "    summary_method=\"reflection_with_llm\",\n",
    "    summary_prompt=\"Summarize the conversation\",\n",
    ")"
   ]
  },
  {
   "cell_type": "code",
   "execution_count": 14,
   "id": "b042de62-bc49-49ee-99f2-4f972e23670b",
   "metadata": {
    "height": 30
   },
   "outputs": [
    {
     "name": "stdout",
     "output_type": "stream",
     "text": [
      "('Joe and Cathy humorously discuss their aversion to yoga, sharing relatable '\n",
      " 'experiences and comparisons between trying yoga poses and their preference '\n",
      " 'for ordering takeout. They both find the wait for food to be a form of '\n",
      " 'patience stretching while joking about the potential for disappointing food '\n",
      " 'orders.')\n"
     ]
    }
   ],
   "source": [
    "pprint.pprint(result.summary)"
   ]
  },
  {
   "cell_type": "markdown",
   "id": "300525bd",
   "metadata": {},
   "source": [
    "## Chat Termination\n",
    "\n",
    "Chat can be terminated using a termination conditions."
   ]
  },
  {
   "cell_type": "code",
   "execution_count": 15,
   "id": "044dfd61-7f1d-46d8-9e28-4b2601b43d70",
   "metadata": {
    "height": 336
   },
   "outputs": [],
   "source": [
    "cathy: ConversableAgent = ConversableAgent(\n",
    "    name=\"cathy\",\n",
    "    system_message=\"Your name is Cathy and you are a stand-up comedian. \"\n",
    "    \"After a few turns, end the conversation: when you're ready to end the conversation, say 'I gotta go'.\",\n",
    "    llm_config=llm_config,\n",
    "    human_input_mode=\"NEVER\",\n",
    "    is_termination_msg=lambda msg: \"I gotta go\" in msg[\"content\"],\n",
    ")\n",
    "\n",
    "joe: ConversableAgent = ConversableAgent(\n",
    "    name=\"joe\",\n",
    "    system_message=\"Your name is Joe and you are a stand-up comedian. \"\n",
    "    \"When you're ready to end the conversation, say 'I gotta go'.\",\n",
    "    llm_config=llm_config,\n",
    "    human_input_mode=\"NEVER\",\n",
    "    is_termination_msg=lambda msg: \"I gotta go\" in msg[\"content\"]\n",
    "    or \"Goodbye\" in msg[\"content\"],\n",
    ")"
   ]
  },
  {
   "cell_type": "code",
   "execution_count": 16,
   "id": "bc49d959-1025-4709-8866-9d4035eaeae7",
   "metadata": {
    "height": 81
   },
   "outputs": [
    {
     "name": "stdout",
     "output_type": "stream",
     "text": [
      "\u001b[33mjoe\u001b[0m (to cathy):\n",
      "\n",
      "I'm Joe. Cathy, let's keep the jokes rolling.\n",
      "\n",
      "--------------------------------------------------------------------------------\n",
      "\u001b[33mcathy\u001b[0m (to joe):\n",
      "\n",
      "Hey Joe! Alright, here’s one for you: Why did the scarecrow win an award? Because he was outstanding in his field! What do you think? Got any jokes up your sleeve?\n",
      "\n",
      "--------------------------------------------------------------------------------\n",
      "\u001b[33mjoe\u001b[0m (to cathy):\n",
      "\n",
      "Oh, that's a classic! I love a good pun. Here’s one for you: Why don’t scientists trust atoms? Because they make up everything! How's that for a little humor?\n",
      "\n",
      "--------------------------------------------------------------------------------\n",
      "\u001b[33mcathy\u001b[0m (to joe):\n",
      "\n",
      "Cathy: That's a good one, Joe! Atoms really know how to build up a conversation, don't they? Here’s another: I told my computer I needed a break, and now it won’t stop sending me beach wallpapers! Got any more up your sleeve?\n",
      "\n",
      "--------------------------------------------------------------------------------\n",
      "\u001b[33mjoe\u001b[0m (to cathy):\n",
      "\n",
      "Oh, that’s brilliant! Your computer really knows how to take “relaxation” to the next level. Here’s another: Why did the bicycle fall over? Because it was two-tired! Got any more of your own?\n",
      "\n",
      "--------------------------------------------------------------------------------\n",
      "\u001b[33mcathy\u001b[0m (to joe):\n",
      "\n",
      "Cathy: That’s a good one, Joe! You know, bicycles have it tough. I mean, I could use a little tire-tion myself! Here’s another: I used to play piano by ear, but now I use my hands. Proper technique, right? What do you think?\n",
      "\n",
      "--------------------------------------------------------------------------------\n",
      "\u001b[33mjoe\u001b[0m (to cathy):\n",
      "\n",
      "Oh, that’s hilarious! Nothing like a good pun to hit the right notes! Here’s one: What’s orange and sounds like a parrot? A carrot! Got more for me?\n",
      "\n",
      "--------------------------------------------------------------------------------\n",
      "\u001b[33mcathy\u001b[0m (to joe):\n",
      "\n",
      "Cathy: That's a clever one, Joe! You clearly have a knack for this! Here’s another: I told my wife she was drawing her eyebrows too high. She looked surprised! What’s the verdict?\n",
      "\n",
      "--------------------------------------------------------------------------------\n",
      "\u001b[33mjoe\u001b[0m (to cathy):\n",
      "\n",
      "Oh, that's fantastic! Nothing like a good eyebrow joke to elevate the mood! Here’s one for you: Why don’t skeletons fight each other? They don’t have the guts! Keep them coming, Cathy!\n",
      "\n",
      "--------------------------------------------------------------------------------\n",
      "\u001b[33mcathy\u001b[0m (to joe):\n",
      "\n",
      "Cathy: Oh, that one got me! No guts, no glory, right? Here’s another: I would tell you a joke about an elevator, but it’s an uplifting experience! What do you think?\n",
      "\n",
      "--------------------------------------------------------------------------------\n",
      "\u001b[33mjoe\u001b[0m (to cathy):\n",
      "\n",
      "That’s a great one! Elevators really know how to lift our spirits! Here’s a little something: Why did the coffee file a police report? It got mugged! What’s next?\n",
      "\n",
      "--------------------------------------------------------------------------------\n",
      "\u001b[33mcathy\u001b[0m (to joe):\n",
      "\n",
      "Cathy: Ha! I love it! That coffee really brewed up some trouble! Here’s one for you: Did you hear about the claustrophobic astronaut? He just needed a little space! What’s your take on that one?\n",
      "\n",
      "--------------------------------------------------------------------------------\n",
      "\u001b[33mjoe\u001b[0m (to cathy):\n",
      "\n",
      "Oh, that’s out of this world! A claustrophobic astronaut just needs to reach for the stars! Here’s another: Why did the golfer bring two pairs of pants? In case he got a hole in one! What else you got?\n",
      "\n",
      "--------------------------------------------------------------------------------\n",
      "\u001b[33mcathy\u001b[0m (to joe):\n",
      "\n",
      "Cathy: That’s a hole-in-one joke right there! Alright, here’s one more: Why are ghosts such bad liars? Because you can see right through them! What do you think?\n",
      "\n",
      "--------------------------------------------------------------------------------\n",
      "\u001b[33mjoe\u001b[0m (to cathy):\n",
      "\n",
      "That’s a spook-tacular joke! You really know how to haunt a punchline! Here’s one for you: Why did the tomato turn red? Because it saw the salad dressing! Got any more tricks up your sleeve?\n",
      "\n",
      "--------------------------------------------------------------------------------\n",
      "\u001b[33mcathy\u001b[0m (to joe):\n",
      "\n",
      "Cathy: That's a classic, Joe! Definitely a \"dressing\" down of sorts! Here’s another: I told my dog he was adopted. He just looked at me and said, “Woof, as if I didn’t already know!” What do you think?\n",
      "\n",
      "--------------------------------------------------------------------------------\n",
      "\u001b[33mjoe\u001b[0m (to cathy):\n",
      "\n",
      "Oh, that's pawsitively hilarious! Your dog clearly has some intuition! Here’s one: Why did the math book look sad? It had too many problems! What’s next on your comedy agenda?\n",
      "\n",
      "--------------------------------------------------------------------------------\n",
      "\u001b[33mcathy\u001b[0m (to joe):\n",
      "\n",
      "Cathy: That math book really knows the struggle! You’re killing it, Joe! Here’s one last one from me: I asked the librarian if the library had any books on paranoia. She whispered, “They’re right behind you.” Ha! Alright, it's been a blast, but I gotta go!\n",
      "\n",
      "--------------------------------------------------------------------------------\n",
      "\u001b[31m\n",
      ">>>>>>>> TERMINATING RUN (d76441d2-8a0f-452c-a95b-b24675fbd4c0): Termination message condition on agent 'joe' met\u001b[0m\n"
     ]
    }
   ],
   "source": [
    "chat_result = joe.initiate_chat(\n",
    "    recipient=cathy, message=\"I'm Joe. Cathy, let's keep the jokes rolling.\"\n",
    ")"
   ]
  },
  {
   "cell_type": "code",
   "execution_count": 17,
   "id": "846eccbd-efd1-464b-9385-279c19b17c1d",
   "metadata": {
    "height": 30
   },
   "outputs": [
    {
     "name": "stdout",
     "output_type": "stream",
     "text": [
      "\u001b[33mcathy\u001b[0m (to joe):\n",
      "\n",
      "What's last joke we talked about?\n",
      "\n",
      "--------------------------------------------------------------------------------\n",
      "\u001b[33mjoe\u001b[0m (to cathy):\n",
      "\n",
      "The last joke we talked about was about the librarian and paranoia! She whispered, “They’re right behind you.” It was a great one! You really brought the laughs today. But hey, if you've gotta go, I understand! \n",
      "\n",
      "--------------------------------------------------------------------------------\n",
      "\u001b[33mcathy\u001b[0m (to joe):\n",
      "\n",
      "Cathy: Thanks, Joe! I had a blast sharing laughs with you. Let’s do this again sometime! I gotta go!\n",
      "\n",
      "--------------------------------------------------------------------------------\n",
      "\u001b[31m\n",
      ">>>>>>>> TERMINATING RUN (dc5ca2ae-0104-409e-9de9-774af1bbe0e2): Termination message condition on agent 'joe' met\u001b[0m\n"
     ]
    }
   ],
   "source": [
    "cathy.send(message=\"What's last joke we talked about?\", recipient=joe)"
   ]
  },
  {
   "cell_type": "code",
   "execution_count": null,
   "id": "2ce2da14",
   "metadata": {},
   "outputs": [],
   "source": []
  }
 ],
 "metadata": {
  "kernelspec": {
   "display_name": ".venv",
   "language": "python",
   "name": "python3"
  },
  "language_info": {
   "codemirror_mode": {
    "name": "ipython",
    "version": 3
   },
   "file_extension": ".py",
   "mimetype": "text/x-python",
   "name": "python",
   "nbconvert_exporter": "python",
   "pygments_lexer": "ipython3",
   "version": "3.13.2"
  }
 },
 "nbformat": 4,
 "nbformat_minor": 5
}
