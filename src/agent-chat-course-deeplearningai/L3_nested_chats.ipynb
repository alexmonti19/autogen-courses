{
 "cells": [
  {
   "cell_type": "markdown",
   "id": "fc3024e2",
   "metadata": {},
   "source": [
    "# Lesson 3: Reflection and Blogpost Writing"
   ]
  },
  {
   "cell_type": "markdown",
   "id": "3b0cc42f",
   "metadata": {},
   "source": [
    "## Setup"
   ]
  },
  {
   "cell_type": "code",
   "execution_count": 1,
   "id": "96d39be0-eaf3-456d-8613-ba21099ed36b",
   "metadata": {
    "height": 30
   },
   "outputs": [],
   "source": [
    "import os\n",
    "import getpass\n",
    "\n",
    "\n",
    "def _set_env(var: str):\n",
    "    if not os.environ.get(var):\n",
    "        os.environ[var] = getpass.getpass(f\"{var}: \")\n",
    "\n",
    "\n",
    "_set_env(\"AZURE_OPENAI_API_KEY\")\n",
    "_set_env(\"AZURE_OPENAI_ENDPOINT\")\n",
    "_set_env(\"AZURE_OPENAI_API_VERSION\")\n",
    "_set_env(\"AZURE_OPENAI_DEPLOYMENT_NAME\")"
   ]
  },
  {
   "cell_type": "code",
   "execution_count": 2,
   "id": "615380f5",
   "metadata": {},
   "outputs": [],
   "source": [
    "llm_config: dict = {\n",
    "    \"config_list\": [\n",
    "        {\n",
    "            \"model\": os.environ[\"AZURE_OPENAI_DEPLOYMENT_NAME\"],\n",
    "            \"api_type\": \"azure\",\n",
    "            \"api_key\": os.environ[\"AZURE_OPENAI_API_KEY\"],\n",
    "            \"base_url\": os.environ[\"AZURE_OPENAI_ENDPOINT\"],\n",
    "            \"api_version\": os.environ[\"AZURE_OPENAI_API_VERSION\"],\n",
    "        }\n",
    "    ]\n",
    "}"
   ]
  },
  {
   "cell_type": "markdown",
   "id": "0969e6bb",
   "metadata": {},
   "source": [
    "## The task!"
   ]
  },
  {
   "cell_type": "code",
   "execution_count": null,
   "id": "e8074032-3690-4de9-ad08-ea8323cb441b",
   "metadata": {
    "height": 115
   },
   "outputs": [],
   "source": [
    "task = \"\"\"\n",
    "        Write a concise but engaging blogpost about\n",
    "       DeepLearning.AI. Make sure the blogpost is\n",
    "       within 100 words.\n",
    "       \"\"\""
   ]
  },
  {
   "cell_type": "markdown",
   "id": "1987f023",
   "metadata": {},
   "source": [
    "## Create a writer agent"
   ]
  },
  {
   "cell_type": "code",
   "execution_count": 23,
   "id": "350960c6",
   "metadata": {},
   "outputs": [],
   "source": [
    "from autogen import AssistantAgent"
   ]
  },
  {
   "cell_type": "code",
   "execution_count": 24,
   "id": "fe0f0a47-a9fe-43a0-b7b1-79922e4c4ac8",
   "metadata": {
    "height": 183
   },
   "outputs": [],
   "source": [
    "writer: AssistantAgent = AssistantAgent(\n",
    "    name=\"Writer\",\n",
    "    system_message=\"You are a writer. You write engaging and concise \"\n",
    "    \"blogpost (with title) on given topics. You must polish your \"\n",
    "    \"writing based on the feedback you receive and give a refined \"\n",
    "    \"version. Only return your final work without additional comments.\",\n",
    "    llm_config=llm_config,\n",
    ")"
   ]
  },
  {
   "cell_type": "code",
   "execution_count": 25,
   "id": "7c7b4d8d-40f7-4a05-8958-25d20054de3a",
   "metadata": {
    "height": 30
   },
   "outputs": [],
   "source": [
    "reply = writer.generate_reply(messages=[{\"content\": task, \"role\": \"user\"}])"
   ]
  },
  {
   "cell_type": "code",
   "execution_count": 26,
   "id": "c501c97d-e338-4f36-a384-6ec45983cf77",
   "metadata": {
    "height": 30
   },
   "outputs": [
    {
     "name": "stdout",
     "output_type": "stream",
     "text": [
      "**Unlocking the Future with DeepLearning.AI**\n",
      "\n",
      "DeepLearning.AI is at the forefront of the AI revolution, empowering individuals and organizations to harness the power of artificial intelligence. Founded by AI pioneer Andrew Ng, this platform offers a comprehensive suite of resources, including courses, certification programs, and community support. With a focus on practical applications, learners can deepen their understanding of neural networks, machine learning, and data science. Whether you are a beginner eager to explore or an expert seeking to refine your skills, DeepLearning.AI provides the tools and knowledge to navigate the evolving landscape of AI and unlock new opportunities in various industries.\n"
     ]
    }
   ],
   "source": [
    "print(reply)"
   ]
  },
  {
   "cell_type": "markdown",
   "id": "49658114",
   "metadata": {},
   "source": [
    "## Adding reflection \n",
    "\n",
    "Create a critic agent to reflect on the work of the writer agent."
   ]
  },
  {
   "cell_type": "code",
   "execution_count": 28,
   "id": "d33a2d56",
   "metadata": {},
   "outputs": [],
   "source": [
    "from autogen.agentchat.chat import ChatResult"
   ]
  },
  {
   "cell_type": "code",
   "execution_count": 27,
   "id": "c7fcd1c7-51ec-4915-8e97-bac03565c4c7",
   "metadata": {
    "height": 149
   },
   "outputs": [],
   "source": [
    "critic: AssistantAgent = AssistantAgent(\n",
    "    name=\"Critic\",\n",
    "    is_termination_msg=lambda x: x.get(\"content\", \"\").find(\"TERMINATE\") >= 0,\n",
    "    llm_config=llm_config,\n",
    "    system_message=\"You are a critic. You review the work of \"\n",
    "    \"the writer and provide constructive \"\n",
    "    \"feedback to help improve the quality of the content.\",\n",
    ")"
   ]
  },
  {
   "cell_type": "code",
   "execution_count": 29,
   "id": "899d5fdb-6081-470b-b287-8cf8b8142d0d",
   "metadata": {
    "height": 115
   },
   "outputs": [
    {
     "name": "stdout",
     "output_type": "stream",
     "text": [
      "\u001b[33mCritic\u001b[0m (to Writer):\n",
      "\n",
      "\n",
      "        Write a concise but engaging blogpost about\n",
      "       DeepLearning.AI. Make sure the blogpost is\n",
      "       within 100 words.\n",
      "       \n",
      "\n",
      "--------------------------------------------------------------------------------\n",
      "\u001b[33mWriter\u001b[0m (to Critic):\n",
      "\n",
      "**Unlocking AI Potential: DeepLearning.AI**\n",
      "\n",
      "DeepLearning.AI is at the forefront of artificial intelligence education, empowering individuals through innovative courses and resources. Founded by AI pioneer Andrew Ng, it offers comprehensive programs that demystify complex concepts, making AI accessible to everyone—from beginners to seasoned professionals. With hands-on projects and a focus on real-world applications, learners gain the skills necessary to thrive in this rapidly evolving field. Joining DeepLearning.AI means being part of a vibrant community dedicated to advancing AI knowledge and capabilities. Embrace the future of technology and unleash your potential in the world of artificial intelligence.\n",
      "\n",
      "--------------------------------------------------------------------------------\n",
      "\u001b[33mCritic\u001b[0m (to Writer):\n",
      "\n",
      "Your blog post on DeepLearning.AI effectively captures the essence of the platform and highlights its significance in AI education. Here are some constructive feedback points to enhance the quality and impact of your content:\n",
      "\n",
      "1. **Brevity and Focus**: While your post is engaging, aim to keep it under 100 words as requested. Consider narrowing down the content further to maximize clarity and impact.\n",
      "\n",
      "2. **Hook**: Start with an attention-grabbing sentence or question to draw readers in immediately. For example, something like, \"Wondering how to break into the world of artificial intelligence?\"\n",
      "\n",
      "3. **Actionable Language**: Use more actionable language to encourage readers to take the next step. Phrases like \"Join a community of AI enthusiasts today!\" can inspire immediate engagement.\n",
      "\n",
      "4. **Specificity**: Instead of generalized terms, include specific examples of courses or projects that readers can explore. This adds tangible value.\n",
      "\n",
      "5. **Personal Touch**: Adding a brief mention of the impact on personal careers or success stories could resonate more with readers who seek motivation.\n",
      "\n",
      "In summary, streamline your message, incorporate a compelling hook, and provide specific examples to increase engagement and clarity. Great work overall!\n",
      "\n",
      "--------------------------------------------------------------------------------\n",
      "\u001b[33mWriter\u001b[0m (to Critic):\n",
      "\n",
      "**Dive into AI with DeepLearning.AI!**\n",
      "\n",
      "Wondering how to break into the world of artificial intelligence? DeepLearning.AI, founded by AI visionary Andrew Ng, offers impactful courses that transform beginner curiosity into professional competency. Explore offerings like the \"Deep Learning Specialization\" or hands-on projects in TensorFlow, designed to equip you with essential AI skills. Join a vibrant community of AI enthusiasts today and unlock your potential in this dynamic field. Whether you aim to enhance your career or pursue innovative projects, DeepLearning.AI is your gateway to mastering artificial intelligence. Embrace the future; start your journey now!\n",
      "\n",
      "--------------------------------------------------------------------------------\n",
      "\u001b[31m\n",
      ">>>>>>>> TERMINATING RUN (b4e92d4b-6831-4123-a57c-6662740f06a4): Maximum turns (2) reached\u001b[0m\n"
     ]
    }
   ],
   "source": [
    "res: ChatResult = critic.initiate_chat(\n",
    "    recipient=writer, message=task, max_turns=2, summary_method=\"last_msg\"\n",
    ")"
   ]
  },
  {
   "cell_type": "markdown",
   "id": "e7b76449",
   "metadata": {},
   "source": [
    "## Nested chat"
   ]
  },
  {
   "cell_type": "code",
   "execution_count": 12,
   "id": "a4d120a1",
   "metadata": {},
   "outputs": [],
   "source": [
    "from autogen import AssistantAgent"
   ]
  },
  {
   "cell_type": "code",
   "execution_count": 13,
   "id": "401ecf92-63e9-40ff-aeed-1c404352e4ab",
   "metadata": {
    "height": 200
   },
   "outputs": [],
   "source": [
    "SEO_reviewer: AssistantAgent = AssistantAgent(\n",
    "    name=\"SEO_Reviewer\",\n",
    "    llm_config=llm_config,\n",
    "    system_message=\"You are an SEO reviewer, known for \"\n",
    "    \"your ability to optimize content for search engines, \"\n",
    "    \"ensuring that it ranks well and attracts organic traffic. \"\n",
    "    \"Make sure your suggestion is concise (within 3 bullet points), \"\n",
    "    \"concrete and to the point. \"\n",
    "    \"Begin the review by stating your role.\",\n",
    ")"
   ]
  },
  {
   "cell_type": "code",
   "execution_count": 14,
   "id": "f85acb81-7ab9-4c84-b8bb-6fbae3dce848",
   "metadata": {
    "height": 183
   },
   "outputs": [],
   "source": [
    "legal_reviewer: AssistantAgent = AssistantAgent(\n",
    "    name=\"Legal_Reviewer\",\n",
    "    llm_config=llm_config,\n",
    "    system_message=\"You are a legal reviewer, known for \"\n",
    "    \"your ability to ensure that content is legally compliant \"\n",
    "    \"and free from any potential legal issues. \"\n",
    "    \"Make sure your suggestion is concise (within 3 bullet points), \"\n",
    "    \"concrete and to the point. \"\n",
    "    \"Begin the review by stating your role.\",\n",
    ")"
   ]
  },
  {
   "cell_type": "code",
   "execution_count": 17,
   "id": "d46a177a-8088-4956-8d2b-3e916b8ca5e9",
   "metadata": {
    "height": 183
   },
   "outputs": [],
   "source": [
    "ethics_reviewer: AssistantAgent = AssistantAgent(\n",
    "    name=\"Ethics_Reviewer\",\n",
    "    llm_config=llm_config,\n",
    "    system_message=\"You are an ethics reviewer, known for \"\n",
    "    \"your ability to ensure that content is ethically sound \"\n",
    "    \"and free from any potential ethical issues. \"\n",
    "    \"Make sure your suggestion is concise (within 3 bullet points), \"\n",
    "    \"concrete and to the point. \"\n",
    "    \"Begin the review by stating your role. \",\n",
    ")"
   ]
  },
  {
   "cell_type": "code",
   "execution_count": 18,
   "id": "a7b2ad6f-8ba6-436a-9459-14ffbe8a32d3",
   "metadata": {
    "height": 115
   },
   "outputs": [],
   "source": [
    "meta_reviewer: AssistantAgent = AssistantAgent(\n",
    "    name=\"Meta_Reviewer\",\n",
    "    llm_config=llm_config,\n",
    "    system_message=\"You are a meta reviewer, you aggragate and review \"\n",
    "    \"the work of other reviewers and give a final suggestion on the content.\",\n",
    ")"
   ]
  },
  {
   "cell_type": "markdown",
   "id": "913beca1",
   "metadata": {},
   "source": [
    "## Orchestrate the nested chats to solve the task"
   ]
  },
  {
   "cell_type": "code",
   "execution_count": 19,
   "id": "a11a70c7-19ca-4e5a-ad3d-f2b481fb5915",
   "metadata": {
    "height": 540
   },
   "outputs": [],
   "source": [
    "def reflection_message(recipient, messages, sender, config):\n",
    "    return f\"\"\"Review the following content. \n",
    "            \\n\\n {recipient.chat_messages_for_summary(sender)[-1]['content']}\"\"\"\n",
    "\n",
    "\n",
    "review_chats: list[dict] = [\n",
    "    {\n",
    "        \"recipient\": SEO_reviewer,\n",
    "        \"message\": reflection_message,\n",
    "        \"summary_method\": \"reflection_with_llm\",\n",
    "        \"summary_args\": {\n",
    "            \"summary_prompt\": \"Return review into as JSON object only:\"\n",
    "            \"{'Reviewer': '', 'Review': ''}. Here Reviewer should be your role\",\n",
    "        },\n",
    "        \"max_turns\": 1,\n",
    "    },\n",
    "    {\n",
    "        \"recipient\": legal_reviewer,\n",
    "        \"message\": reflection_message,\n",
    "        \"summary_method\": \"reflection_with_llm\",\n",
    "        \"summary_args\": {\n",
    "            \"summary_prompt\": \"Return review into as JSON object only:\"\n",
    "            \"{'Reviewer': '', 'Review': ''}.\",\n",
    "        },\n",
    "        \"max_turns\": 1,\n",
    "    },\n",
    "    {\n",
    "        \"recipient\": ethics_reviewer,\n",
    "        \"message\": reflection_message,\n",
    "        \"summary_method\": \"reflection_with_llm\",\n",
    "        \"summary_args\": {\n",
    "            \"summary_prompt\": \"Return review into as JSON object only:\"\n",
    "            \"{'reviewer': '', 'review': ''}\",\n",
    "        },\n",
    "        \"max_turns\": 1,\n",
    "    },\n",
    "    {\n",
    "        \"recipient\": meta_reviewer,\n",
    "        \"message\": \"Aggregrate feedback from all reviewers and give final suggestions on the writing.\",\n",
    "        \"max_turns\": 1,\n",
    "    },\n",
    "]"
   ]
  },
  {
   "cell_type": "code",
   "execution_count": 20,
   "id": "b3a40b66-5061-460d-ad9d-c0dbcfbba2e9",
   "metadata": {
    "height": 81
   },
   "outputs": [],
   "source": [
    "critic.register_nested_chats(\n",
    "    review_chats,\n",
    "    trigger=writer,\n",
    ")"
   ]
  },
  {
   "cell_type": "markdown",
   "id": "43b8797d",
   "metadata": {},
   "source": [
    "**Note**: You might get a slightly different response than what's shown in the video. Feel free to try different task."
   ]
  },
  {
   "cell_type": "code",
   "execution_count": 21,
   "id": "3b8dcac3-1e72-43b7-9d5a-1be740f6efd5",
   "metadata": {
    "height": 115
   },
   "outputs": [
    {
     "name": "stdout",
     "output_type": "stream",
     "text": [
      "\u001b[33mCritic\u001b[0m (to Writer):\n",
      "\n",
      "\n",
      "        Write a concise but engaging blogpost about\n",
      "       DeepLearning.AI. Make sure the blogpost is\n",
      "       within 100 words.\n",
      "       \n",
      "\n",
      "--------------------------------------------------------------------------------\n",
      "\u001b[33mWriter\u001b[0m (to Critic):\n",
      "\n",
      "**Unlocking AI Potential: DeepLearning.AI**\n",
      "\n",
      "DeepLearning.AI is at the forefront of artificial intelligence education, empowering individuals through innovative courses and resources. Founded by AI pioneer Andrew Ng, it offers comprehensive programs that demystify complex concepts, making AI accessible to everyone—from beginners to seasoned professionals. With hands-on projects and a focus on real-world applications, learners gain the skills necessary to thrive in this rapidly evolving field. Joining DeepLearning.AI means being part of a vibrant community dedicated to advancing AI knowledge and capabilities. Embrace the future of technology and unleash your potential in the world of artificial intelligence.\n",
      "\n",
      "--------------------------------------------------------------------------------\n",
      "\u001b[34m\n",
      "********************************************************************************\u001b[0m\n",
      "\u001b[34mStarting a new chat....\u001b[0m\n",
      "\u001b[34m\n",
      "********************************************************************************\u001b[0m\n",
      "\u001b[33mCritic\u001b[0m (to SEO_Reviewer):\n",
      "\n",
      "Review the following content. \n",
      "            \n",
      "\n",
      " **Unlocking AI Potential: DeepLearning.AI**\n",
      "\n",
      "DeepLearning.AI is at the forefront of artificial intelligence education, empowering individuals through innovative courses and resources. Founded by AI pioneer Andrew Ng, it offers comprehensive programs that demystify complex concepts, making AI accessible to everyone—from beginners to seasoned professionals. With hands-on projects and a focus on real-world applications, learners gain the skills necessary to thrive in this rapidly evolving field. Joining DeepLearning.AI means being part of a vibrant community dedicated to advancing AI knowledge and capabilities. Embrace the future of technology and unleash your potential in the world of artificial intelligence.\n",
      "\n",
      "--------------------------------------------------------------------------------\n",
      "\u001b[33mSEO_Reviewer\u001b[0m (to Critic):\n",
      "\n",
      "As an SEO reviewer, I recommend the following adjustments for optimal search engine performance:\n",
      "\n",
      "- **Keyword Optimization**: Incorporate relevant keywords throughout the content. Terms like \"artificial intelligence courses,\" \"AI education,\" and \"machine learning training\" should be strategically placed in headings and within the text to improve search visibility.\n",
      "  \n",
      "- **Meta Description and Title Tags**: Ensure there is a compelling meta description (around 150-160 characters) and an optimized title tag (60 characters max) that include primary keywords to enhance click-through rates from search results.\n",
      "\n",
      "- **Internal and External Links**: Add internal links to related content on the DeepLearning.AI website and high-authority external links to reputable sources. This boosts credibility and encourages users to explore more, improving site metrics.\n",
      "\n",
      "--------------------------------------------------------------------------------\n",
      "\u001b[31m\n",
      ">>>>>>>> TERMINATING RUN (30dab504-98b4-4ee8-86bc-bf3f2c9b8413): Maximum turns (1) reached\u001b[0m\n",
      "\u001b[34m\n",
      "********************************************************************************\u001b[0m\n",
      "\u001b[34mStarting a new chat....\u001b[0m\n",
      "\u001b[34m\n",
      "********************************************************************************\u001b[0m\n",
      "\u001b[33mCritic\u001b[0m (to Legal_Reviewer):\n",
      "\n",
      "Review the following content. \n",
      "            \n",
      "\n",
      " **Unlocking AI Potential: DeepLearning.AI**\n",
      "\n",
      "DeepLearning.AI is at the forefront of artificial intelligence education, empowering individuals through innovative courses and resources. Founded by AI pioneer Andrew Ng, it offers comprehensive programs that demystify complex concepts, making AI accessible to everyone—from beginners to seasoned professionals. With hands-on projects and a focus on real-world applications, learners gain the skills necessary to thrive in this rapidly evolving field. Joining DeepLearning.AI means being part of a vibrant community dedicated to advancing AI knowledge and capabilities. Embrace the future of technology and unleash your potential in the world of artificial intelligence.\n",
      "Context: \n",
      "```json\n",
      "{\n",
      "  \"Reviewer\": \"SEO_Reviewer\",\n",
      "  \"Review\": \"As an SEO reviewer, I recommend the following adjustments for optimal search engine performance: - Keyword Optimization: Incorporate relevant keywords throughout the content. Terms like 'artificial intelligence courses,' 'AI education,' and 'machine learning training' should be strategically placed in headings and within the text to improve search visibility. - Meta Description and Title Tags: Ensure there is a compelling meta description (around 150-160 characters) and an optimized title tag (60 characters max) that include primary keywords to enhance click-through rates from search results. - Internal and External Links: Add internal links to related content on the DeepLearning.AI website and high-authority external links to reputable sources. This boosts credibility and encourages users to explore more, improving site metrics.\"\n",
      "}\n",
      "```\n",
      "\n",
      "--------------------------------------------------------------------------------\n",
      "\u001b[33mLegal_Reviewer\u001b[0m (to Critic):\n",
      "\n",
      "As a legal reviewer, here are my suggestions for ensuring content compliance and mitigating potential legal issues:\n",
      "\n",
      "- **Copyright Considerations**: Verify that all referenced works, projects, and any proprietary content created by Andrew Ng or other entities are appropriately credited and that necessary permissions for use are obtained, if applicable. \n",
      "\n",
      "- **Trademarks and Branding**: Ensure that all brand names, including 'DeepLearning.AI' and any related trademarks, are properly used according to their trademark guidelines to avoid infringement.\n",
      "\n",
      "- **Disclosure of Affiliations or Partnerships**: If applicable, disclose any affiliations, sponsorships, or partnerships that may influence the reader's perception of the content, ensuring transparency and adherence to advertising standards.\n",
      "\n",
      "--------------------------------------------------------------------------------\n",
      "\u001b[31m\n",
      ">>>>>>>> TERMINATING RUN (ad152e18-6b4a-4ae4-b27c-a65c2a600494): Maximum turns (1) reached\u001b[0m\n",
      "\u001b[34m\n",
      "********************************************************************************\u001b[0m\n",
      "\u001b[34mStarting a new chat....\u001b[0m\n",
      "\u001b[34m\n",
      "********************************************************************************\u001b[0m\n",
      "\u001b[33mCritic\u001b[0m (to Ethics_Reviewer):\n",
      "\n",
      "Review the following content. \n",
      "            \n",
      "\n",
      " **Unlocking AI Potential: DeepLearning.AI**\n",
      "\n",
      "DeepLearning.AI is at the forefront of artificial intelligence education, empowering individuals through innovative courses and resources. Founded by AI pioneer Andrew Ng, it offers comprehensive programs that demystify complex concepts, making AI accessible to everyone—from beginners to seasoned professionals. With hands-on projects and a focus on real-world applications, learners gain the skills necessary to thrive in this rapidly evolving field. Joining DeepLearning.AI means being part of a vibrant community dedicated to advancing AI knowledge and capabilities. Embrace the future of technology and unleash your potential in the world of artificial intelligence.\n",
      "Context: \n",
      "```json\n",
      "{\n",
      "  \"Reviewer\": \"SEO_Reviewer\",\n",
      "  \"Review\": \"As an SEO reviewer, I recommend the following adjustments for optimal search engine performance: - Keyword Optimization: Incorporate relevant keywords throughout the content. Terms like 'artificial intelligence courses,' 'AI education,' and 'machine learning training' should be strategically placed in headings and within the text to improve search visibility. - Meta Description and Title Tags: Ensure there is a compelling meta description (around 150-160 characters) and an optimized title tag (60 characters max) that include primary keywords to enhance click-through rates from search results. - Internal and External Links: Add internal links to related content on the DeepLearning.AI website and high-authority external links to reputable sources. This boosts credibility and encourages users to explore more, improving site metrics.\"\n",
      "}\n",
      "```\n",
      "{\n",
      "  \"Reviewer\": \"Legal_Reviewer\",\n",
      "  \"Review\": \"As a legal reviewer, here are my suggestions for ensuring content compliance and mitigating potential legal issues: - Copyright Considerations: Verify that all referenced works, projects, and any proprietary content created by Andrew Ng or other entities are appropriately credited and that necessary permissions for use are obtained, if applicable. - Trademarks and Branding: Ensure that all brand names, including 'DeepLearning.AI' and any related trademarks, are properly used according to their trademark guidelines to avoid infringement. - Disclosure of Affiliations or Partnerships: If applicable, disclose any affiliations, sponsorships, or partnerships that may influence the reader's perception of the content, ensuring transparency and adherence to advertising standards.\"\n",
      "}\n",
      "\n",
      "--------------------------------------------------------------------------------\n",
      "\u001b[33mEthics_Reviewer\u001b[0m (to Critic):\n",
      "\n",
      "As an ethics reviewer, my goal is to ensure that the content aligns with ethical standards and promotes responsible practices. Here are my suggestions:\n",
      "\n",
      "- **Transparency and Representation**: Clearly disclose any affiliations and potential sponsorships related to DeepLearning.AI to ensure readers are aware of biases that may affect the content's objectivity.\n",
      "- **Accessibility Commitment**: Ensure that the courses and resources mentioned in the content are genuinely accessible to all individuals, regardless of socioeconomic status or background, to promote inclusivity in AI education.\n",
      "- **Data Privacy Assurance**: Emphasize the importance of protecting learners' personal information, and clarify how data collected from users will be handled, in line with ethical data practices.\n",
      "\n",
      "--------------------------------------------------------------------------------\n",
      "\u001b[31m\n",
      ">>>>>>>> TERMINATING RUN (11fe2183-eaab-491d-810c-35567bd88936): Maximum turns (1) reached\u001b[0m\n",
      "\u001b[34m\n",
      "********************************************************************************\u001b[0m\n",
      "\u001b[34mStarting a new chat....\u001b[0m\n",
      "\u001b[34m\n",
      "********************************************************************************\u001b[0m\n",
      "\u001b[33mCritic\u001b[0m (to Meta_Reviewer):\n",
      "\n",
      "Aggregrate feedback from all reviewers and give final suggestions on the writing.\n",
      "Context: \n",
      "```json\n",
      "{\n",
      "  \"Reviewer\": \"SEO_Reviewer\",\n",
      "  \"Review\": \"As an SEO reviewer, I recommend the following adjustments for optimal search engine performance: - Keyword Optimization: Incorporate relevant keywords throughout the content. Terms like 'artificial intelligence courses,' 'AI education,' and 'machine learning training' should be strategically placed in headings and within the text to improve search visibility. - Meta Description and Title Tags: Ensure there is a compelling meta description (around 150-160 characters) and an optimized title tag (60 characters max) that include primary keywords to enhance click-through rates from search results. - Internal and External Links: Add internal links to related content on the DeepLearning.AI website and high-authority external links to reputable sources. This boosts credibility and encourages users to explore more, improving site metrics.\"\n",
      "}\n",
      "```\n",
      "{\n",
      "  \"Reviewer\": \"Legal_Reviewer\",\n",
      "  \"Review\": \"As a legal reviewer, here are my suggestions for ensuring content compliance and mitigating potential legal issues: - Copyright Considerations: Verify that all referenced works, projects, and any proprietary content created by Andrew Ng or other entities are appropriately credited and that necessary permissions for use are obtained, if applicable. - Trademarks and Branding: Ensure that all brand names, including 'DeepLearning.AI' and any related trademarks, are properly used according to their trademark guidelines to avoid infringement. - Disclosure of Affiliations or Partnerships: If applicable, disclose any affiliations, sponsorships, or partnerships that may influence the reader's perception of the content, ensuring transparency and adherence to advertising standards.\"\n",
      "}\n",
      "```json\n",
      "{\n",
      "  \"reviewer\": \"Ethics_Reviewer\",\n",
      "  \"review\": \"As an ethics reviewer, my goal is to ensure that the content aligns with ethical standards and promotes responsible practices. Here are my suggestions: - Transparency and Representation: Clearly disclose any affiliations and potential sponsorships related to DeepLearning.AI to ensure readers are aware of biases that may affect the content's objectivity. - Accessibility Commitment: Ensure that the courses and resources mentioned in the content are genuinely accessible to all individuals, regardless of socioeconomic status or background, to promote inclusivity in AI education. - Data Privacy Assurance: Emphasize the importance of protecting learners' personal information, and clarify how data collected from users will be handled, in line with ethical data practices.\"\n",
      "}\n",
      "```\n",
      "\n",
      "--------------------------------------------------------------------------------\n",
      "\u001b[33mMeta_Reviewer\u001b[0m (to Critic):\n",
      "\n",
      "### Aggregated Feedback\n",
      "\n",
      "The reviews provided by the SEO, Legal, and Ethics reviewers cover essential aspects that contribute to the overall quality and compliance of the content. Here's a synthesis of their recommendations:\n",
      "\n",
      "1. **SEO Enhancements**:\n",
      "   - **Keyword Optimization**: Suggested incorporation of relevant keywords, such as \"artificial intelligence courses,\" \"AI education,\" and \"machine learning training,\" should be interspersed throughout the content, particularly in headings and key sections to enhance search visibility.\n",
      "   - **Meta Description and Title Tags**: Developing a strong meta description (about 150-160 characters) and title tag (60 characters max) that includes primary keywords to maximize click-through rates is crucial.\n",
      "   - **Linking Strategy**: The addition of internal links to related content and high-quality external links to reputable sources is advised to increase credibility and encourage further reader engagement.\n",
      "\n",
      "2. **Legal Compliance**:\n",
      "   - **Copyright and Permissions**: It's important to verify proper credit and obtain necessary permissions for any referenced works related to Andrew Ng or other entities.\n",
      "   - **Trademark Usage**: Ensuring that all brand names and trademarks, specifically 'DeepLearning.AI,' are used according to trademark guidelines is essential to avoid legal issues.\n",
      "   - **Disclosure**: Any affiliations or partnerships that might influence the reader’s perception should be openly disclosed, maintaining transparency and following advertising standards.\n",
      "\n",
      "3. **Ethical Considerations**:\n",
      "   - **Transparency in Affiliations**: Clear disclosure of affiliations and sponsorships is recommended to maintain the content’s objectivity.\n",
      "   - **Inclusivity**: A commitment to accessibility in the courses and resources is strongly encouraged, ensuring that AI education is accessible to all individuals, regardless of their background.\n",
      "   - **Data Privacy**: Emphasizing the protection of learners’ personal information and detailing how their data will be managed aligns with ethical data practices.\n",
      "\n",
      "### Final Suggestions\n",
      "\n",
      "Based on the feedback from all three reviewers, the following changes are recommended for the content:\n",
      "\n",
      "- **Integrate SEO Practices**: Revise the content to include the suggested keywords effectively. Additionally, craft a compelling meta description and title tag that accurately reflect the content and appeal to search engine users.\n",
      "  \n",
      "- **Address Legal Compliance**: Ensure any referenced materials have proper attributions and that trademarks are used correctly. Include necessary disclosures about affiliations or partnerships.\n",
      "  \n",
      "- **Emphasize Ethical Standards**: Highlight the commitment to inclusivity in AI education and detail how any collected data from users will be handled to assure readers of robust data privacy practices.\n",
      "\n",
      "By implementing these changes, the content will not only be optimized for search engines but will also adhere to legal and ethical standards, fostering reader trust and engagement.\n",
      "\n",
      "--------------------------------------------------------------------------------\n",
      "\u001b[31m\n",
      ">>>>>>>> TERMINATING RUN (2ef25e3a-fdd8-40b3-840b-4b3e4d6a40de): Maximum turns (1) reached\u001b[0m\n",
      "\u001b[33mCritic\u001b[0m (to Writer):\n",
      "\n",
      "### Aggregated Feedback\n",
      "\n",
      "The reviews provided by the SEO, Legal, and Ethics reviewers cover essential aspects that contribute to the overall quality and compliance of the content. Here's a synthesis of their recommendations:\n",
      "\n",
      "1. **SEO Enhancements**:\n",
      "   - **Keyword Optimization**: Suggested incorporation of relevant keywords, such as \"artificial intelligence courses,\" \"AI education,\" and \"machine learning training,\" should be interspersed throughout the content, particularly in headings and key sections to enhance search visibility.\n",
      "   - **Meta Description and Title Tags**: Developing a strong meta description (about 150-160 characters) and title tag (60 characters max) that includes primary keywords to maximize click-through rates is crucial.\n",
      "   - **Linking Strategy**: The addition of internal links to related content and high-quality external links to reputable sources is advised to increase credibility and encourage further reader engagement.\n",
      "\n",
      "2. **Legal Compliance**:\n",
      "   - **Copyright and Permissions**: It's important to verify proper credit and obtain necessary permissions for any referenced works related to Andrew Ng or other entities.\n",
      "   - **Trademark Usage**: Ensuring that all brand names and trademarks, specifically 'DeepLearning.AI,' are used according to trademark guidelines is essential to avoid legal issues.\n",
      "   - **Disclosure**: Any affiliations or partnerships that might influence the reader’s perception should be openly disclosed, maintaining transparency and following advertising standards.\n",
      "\n",
      "3. **Ethical Considerations**:\n",
      "   - **Transparency in Affiliations**: Clear disclosure of affiliations and sponsorships is recommended to maintain the content’s objectivity.\n",
      "   - **Inclusivity**: A commitment to accessibility in the courses and resources is strongly encouraged, ensuring that AI education is accessible to all individuals, regardless of their background.\n",
      "   - **Data Privacy**: Emphasizing the protection of learners’ personal information and detailing how their data will be managed aligns with ethical data practices.\n",
      "\n",
      "### Final Suggestions\n",
      "\n",
      "Based on the feedback from all three reviewers, the following changes are recommended for the content:\n",
      "\n",
      "- **Integrate SEO Practices**: Revise the content to include the suggested keywords effectively. Additionally, craft a compelling meta description and title tag that accurately reflect the content and appeal to search engine users.\n",
      "  \n",
      "- **Address Legal Compliance**: Ensure any referenced materials have proper attributions and that trademarks are used correctly. Include necessary disclosures about affiliations or partnerships.\n",
      "  \n",
      "- **Emphasize Ethical Standards**: Highlight the commitment to inclusivity in AI education and detail how any collected data from users will be handled to assure readers of robust data privacy practices.\n",
      "\n",
      "By implementing these changes, the content will not only be optimized for search engines but will also adhere to legal and ethical standards, fostering reader trust and engagement.\n",
      "\n",
      "--------------------------------------------------------------------------------\n",
      "\u001b[33mWriter\u001b[0m (to Critic):\n",
      "\n",
      "**DeepLearning.AI: Your Gateway to AI Education**\n",
      "\n",
      "Discover the future of artificial intelligence with DeepLearning.AI, a leading platform delivering comprehensive AI education. Founded by AI expert Andrew Ng, it provides high-quality courses in artificial intelligence, machine learning training, and practical projects, making AI accessible to all. Emphasizing inclusivity, DeepLearning.AI ensures that learners from diverse backgrounds can enhance their skills. With a commitment to data privacy and transparency, they safeguard your personal information while nurturing your growth in this dynamic field. Join a thriving community and unlock your potential—enroll in DeepLearning.AI today! \n",
      "\n",
      "*Meta Description: Explore DeepLearning.AI for top-notch AI courses, fostering inclusivity and data privacy. Join the learning revolution today!*\n",
      "\n",
      "--------------------------------------------------------------------------------\n",
      "\u001b[31m\n",
      ">>>>>>>> TERMINATING RUN (06f4878c-24fb-466b-96c4-21e467cac492): Maximum turns (2) reached\u001b[0m\n"
     ]
    }
   ],
   "source": [
    "res = critic.initiate_chat(\n",
    "    recipient=writer, message=task, max_turns=2, summary_method=\"last_msg\"\n",
    ")"
   ]
  },
  {
   "cell_type": "markdown",
   "id": "c5c833b0",
   "metadata": {},
   "source": [
    "## Get the summary"
   ]
  },
  {
   "cell_type": "code",
   "execution_count": 22,
   "id": "68ef82ed-f102-4964-b7be-60e2f258a39b",
   "metadata": {
    "height": 30
   },
   "outputs": [
    {
     "name": "stdout",
     "output_type": "stream",
     "text": [
      "**DeepLearning.AI: Your Gateway to AI Education**\n",
      "\n",
      "Discover the future of artificial intelligence with DeepLearning.AI, a leading platform delivering comprehensive AI education. Founded by AI expert Andrew Ng, it provides high-quality courses in artificial intelligence, machine learning training, and practical projects, making AI accessible to all. Emphasizing inclusivity, DeepLearning.AI ensures that learners from diverse backgrounds can enhance their skills. With a commitment to data privacy and transparency, they safeguard your personal information while nurturing your growth in this dynamic field. Join a thriving community and unlock your potential—enroll in DeepLearning.AI today! \n",
      "\n",
      "*Meta Description: Explore DeepLearning.AI for top-notch AI courses, fostering inclusivity and data privacy. Join the learning revolution today!*\n"
     ]
    }
   ],
   "source": [
    "print(res.summary)"
   ]
  }
 ],
 "metadata": {
  "kernelspec": {
   "display_name": ".venv",
   "language": "python",
   "name": "python3"
  },
  "language_info": {
   "codemirror_mode": {
    "name": "ipython",
    "version": 3
   },
   "file_extension": ".py",
   "mimetype": "text/x-python",
   "name": "python",
   "nbconvert_exporter": "python",
   "pygments_lexer": "ipython3",
   "version": "3.13.2"
  }
 },
 "nbformat": 4,
 "nbformat_minor": 5
}
